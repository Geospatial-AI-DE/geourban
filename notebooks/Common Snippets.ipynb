{
 "cells": [
  {
   "cell_type": "code",
   "execution_count": null,
   "id": "5a918420",
   "metadata": {},
   "outputs": [],
   "source": [
    "# author: Jan Tschada\n",
    "# SPDX-License-Identifer: Apache-2.0"
   ]
  },
  {
   "cell_type": "code",
   "execution_count": null,
   "id": "84b7d2a4",
   "metadata": {},
   "outputs": [],
   "source": [
    "from arcgis.gis import GIS\n",
    "from arcgis.features import FeatureSet\n",
    "from datetime import datetime\n",
    "from georapid.client import GeoRapidClient\n",
    "from georapid.factory import EnvironmentClientFactory\n",
    "from geourban import services, types"
   ]
  },
  {
   "cell_type": "code",
   "execution_count": null,
   "id": "de0cb82f",
   "metadata": {},
   "outputs": [],
   "source": [
    "class UrbanSimulation(object):\n",
    "    \n",
    "    def __init__(self):\n",
    "        self._client = EnvironmentClientFactory.create_client_with_host('geourban.p.rapidapi.com')\n",
    "        self._simulations = services.simulations(self._client)\n",
    "    \n",
    "    def find_simulation(self, region_name):\n",
    "        for simulation in self._simulations:\n",
    "            if region_name == simulation['name']:\n",
    "                return simulation\n",
    "        \n",
    "        raise ValueError(f'No traffic simulation for \"{region_name}\" exists!')\n",
    "    \n",
    "    def query_car_hotspots(self, region_code, simulation_date):\n",
    "        vehicle_type = types.VehicleType.CAR\n",
    "        grid_type = types.GridType.AGENT\n",
    "        traffic_grid = services.top(self._client, region_code, simulation_date, vehicle_type, grid_type)\n",
    "        return FeatureSet.from_geojson(traffic_grid).sdf"
   ]
  },
  {
   "cell_type": "code",
   "execution_count": null,
   "id": "18565d2e",
   "metadata": {},
   "outputs": [],
   "source": [
    "urban_sim = UrbanSimulation()\n",
    "bonn_simulation = urban_sim.find_simulation('Bonn, Kreisfreie Stadt')\n",
    "region_code = bonn_simulation['region']\n",
    "simulation_date = datetime.fromisoformat(bonn_simulation['date']).date()\n",
    "car_speed_spatial_df = urban_sim.query_car_hotspots(region_code, simulation_date)\n",
    "gis = GIS()\n",
    "bonn_map = gis.map('Bonn, Germany', zoomlevel=13)\n",
    "car_speed_spatial_df.spatial.plot(bonn_map, renderer_type='s', colors='#E80000', alpha=0.3)\n",
    "bonn_map"
   ]
  },
  {
   "cell_type": "code",
   "execution_count": null,
   "id": "f9a4b0c9",
   "metadata": {},
   "outputs": [],
   "source": []
  }
 ],
 "metadata": {
  "kernelspec": {
   "display_name": "Python 3 (ipykernel)",
   "language": "python",
   "name": "python3"
  },
  "language_info": {
   "codemirror_mode": {
    "name": "ipython",
    "version": 3
   },
   "file_extension": ".py",
   "mimetype": "text/x-python",
   "name": "python",
   "nbconvert_exporter": "python",
   "pygments_lexer": "ipython3",
   "version": "3.9.15"
  }
 },
 "nbformat": 4,
 "nbformat_minor": 5
}
