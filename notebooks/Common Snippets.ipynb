{
 "cells": [
  {
   "cell_type": "code",
   "execution_count": null,
   "id": "5a918420",
   "metadata": {},
   "outputs": [],
   "source": [
    "# author: Jan Tschada\n",
    "# SPDX-License-Identifer: Apache-2.0"
   ]
  },
  {
   "cell_type": "code",
   "execution_count": null,
   "id": "84b7d2a4",
   "metadata": {},
   "outputs": [],
   "source": [
    "from arcgis.gis import GIS\n",
    "from arcgis.features import FeatureSet\n",
    "from datetime import datetime\n",
    "from georapid.client import GeoRapidClient\n",
    "from georapid.factory import EnvironmentClientFactory\n",
    "from geourban import services, types\n",
    "import pandas as pd"
   ]
  },
  {
   "cell_type": "code",
   "execution_count": null,
   "id": "de0cb82f",
   "metadata": {},
   "outputs": [],
   "source": [
    "class UrbanSimulation(object):\n",
    "    \n",
    "    def __init__(self):\n",
    "        self._client = EnvironmentClientFactory.create_client_with_host('geourban.p.rapidapi.com')\n",
    "        self._simulations = services.simulations(self._client)\n",
    "    \n",
    "    def find_simulation(self, region_name):\n",
    "        for simulation in self._simulations:\n",
    "            if region_name == simulation['name']:\n",
    "                return simulation\n",
    "        \n",
    "        raise ValueError(f'No traffic simulation for \"{region_name}\" exists!')\n",
    "    \n",
    "    def query_car_hotspots(self, region_code, simulation_date):\n",
    "        vehicle_type = types.VehicleType.CAR\n",
    "        grid_type = types.GridType.AGENT\n",
    "        traffic_grid = services.top(self._client, region_code, simulation_date, vehicle_type, grid_type)\n",
    "        traffic_grid_sdf = FeatureSet.from_geojson(traffic_grid).sdf\n",
    "        traffic_grid_sdf[['start_time', 'end_time']] = traffic_grid_sdf[['start_time', 'end_time']].apply(pd.to_datetime)\n",
    "        traffic_grid_sdf['agent_count'] = traffic_grid_sdf['agent_count'].apply(pd.to_numeric)\n",
    "        return traffic_grid_sdf[['start_time', 'end_time', 'agent_count', 'SHAPE']]\n",
    "    \n",
    "    def query_car_positions(self, latitude, longitude, simulation_datetime):\n",
    "        vehicle_type = types.VehicleType.CAR\n",
    "        agent_positions = services.query(self._client, simulation_datetime, vehicle_type, latitude, longitude)\n",
    "        agent_positions_sdf = FeatureSet.from_geojson(agent_positions).sdf\n",
    "        agent_positions_sdf[['trip', 'person']] = agent_positions_sdf[['trip', 'person']].apply(pd.to_numeric)\n",
    "        agent_positions_sdf['trip_time'] = agent_positions_sdf['trip_time'].apply(pd.to_datetime)\n",
    "        return agent_positions_sdf[['trip', 'person', 'trip_time', 'SHAPE']]"
   ]
  },
  {
   "cell_type": "code",
   "execution_count": null,
   "id": "18565d2e",
   "metadata": {},
   "outputs": [],
   "source": [
    "urban_sim = UrbanSimulation()\n",
    "bonn_simulation = urban_sim.find_simulation('Bonn, Kreisfreie Stadt')\n",
    "region_code = bonn_simulation['region']\n",
    "simulation_date = datetime.fromisoformat(bonn_simulation['date']).date()\n",
    "car_speed_spatial_df = urban_sim.query_car_hotspots(region_code, simulation_date)\n",
    "gis = GIS()\n",
    "bonn_map = gis.map('Bonn, Germany', zoomlevel=13)\n",
    "car_speed_spatial_df.spatial.plot(bonn_map, renderer_type='s', colors='#E80000', alpha=0.3)\n",
    "bonn_map"
   ]
  },
  {
   "cell_type": "code",
   "execution_count": null,
   "id": "f9a4b0c9",
   "metadata": {},
   "outputs": [],
   "source": [
    "urban_sim = UrbanSimulation()\n",
    "(latitude, longitude) = (50.746708, 7.074405)\n",
    "simulation_datetime = datetime.fromisoformat('2023-08-24T08:00:00')\n",
    "car_positions_spatial_df = urban_sim.query_car_positions(latitude, longitude, simulation_datetime)\n",
    "car_positions_spatial_df"
   ]
  },
  {
   "cell_type": "code",
   "execution_count": null,
   "id": "5f5deb33",
   "metadata": {},
   "outputs": [],
   "source": [
    "# author: Jan Tschada\n",
    "# SPDX-License-Identifer: Apache-2.0\n",
    "\n",
    "from arcgis.features import FeatureLayer\n",
    "import pytz\n",
    "\n",
    "class UrbanSimulationPortal(object):\n",
    "    \n",
    "    def __init__(self):\n",
    "        self._gis = None\n",
    "    \n",
    "    def login(self, username):\n",
    "        \"\"\"\n",
    "        Login into ArcGIS Online using a password input.\n",
    "\n",
    "        :param str username: Your ArcGIS Online username.\n",
    "        \"\"\"\n",
    "        self._gis = GIS(username=username)\n",
    "        \n",
    "    def publish_positions(self, positions_sdf, service_name, folder):\n",
    "        \"\"\"\n",
    "        Publish agent positions as a feature service.\n",
    "\n",
    "        :param SDF positions_sdf: The geospatial features to publish.\n",
    "        :param str service_name: The name of the feature service.\n",
    "        :param str folder: The name of the existing output folder.\n",
    "        \"\"\"\n",
    "        agent_positions_sdf = positions_sdf.copy()\n",
    "        \n",
    "        # Publish only the first position as feature layer\n",
    "        portal_item = agent_positions_sdf[:1].spatial.to_featurelayer(service_name, folder=folder)\n",
    "        \n",
    "        # Access the underlying feature layer from the newly created portal item\n",
    "        if len(portal_item.layers) < 1:\n",
    "            raise ValueError(f\"Feature service '{service_name}' is not valid!\")\n",
    "            \n",
    "        feature_layer = portal_item.layers[0]\n",
    "        feature_layer.delete_features(where='1=1')\n",
    "        agent_positions_fset = agent_positions_sdf.spatial.to_featureset()\n",
    "        agent_positions_features = agent_positions_fset.features\n",
    "        feature_layer.edit_features(adds=agent_positions_features)\n",
    "        return feature_layer"
   ]
  },
  {
   "cell_type": "code",
   "execution_count": null,
   "id": "d524d5b6",
   "metadata": {},
   "outputs": [],
   "source": [
    "def convert_triptimes_to_utc(positions_sdf, wk_timezone):\n",
    "    agent_positions_sdf = positions_sdf.copy()\n",
    "    \n",
    "    if not None is wk_timezone:\n",
    "        if not 'trip_time' in agent_positions_sdf.columns:\n",
    "            raise ValueError(\"Column 'trip_time' is missing!\")\n",
    "                \n",
    "        agent_positions_sdf['trip_time'] = agent_positions_sdf['trip_time'].apply(lambda trip_time: trip_time.tz_localize(wk_timezone))\n",
    "        agent_positions_sdf['trip_time'] = agent_positions_sdf['trip_time'].apply(lambda trip_time: trip_time.tz_convert(None))\n",
    "        \n",
    "    return agent_positions_sdf"
   ]
  },
  {
   "cell_type": "code",
   "execution_count": null,
   "id": "e4c91c1c",
   "metadata": {},
   "outputs": [],
   "source": [
    "wk_timezone = 'Europe/Berlin'\n",
    "convert_triptimes_to_utc(car_positions_spatial_df, wk_timezone)"
   ]
  },
  {
   "cell_type": "code",
   "execution_count": null,
   "id": "fafb4aaa",
   "metadata": {},
   "outputs": [],
   "source": [
    "import os"
   ]
  },
  {
   "cell_type": "code",
   "execution_count": null,
   "id": "9754271e",
   "metadata": {},
   "outputs": [],
   "source": [
    "urban_portal = UrbanSimulationPortal()\n",
    "username = os.environ.get('arcgis_user')\n",
    "urban_portal.login(username)\n",
    "car_feature_layer = urban_portal.publish_positions(car_positions_spatial_df, 'bonn_cars', 'Urban')\n",
    "car_feature_layer"
   ]
  },
  {
   "cell_type": "code",
   "execution_count": null,
   "id": "299f38ea",
   "metadata": {},
   "outputs": [],
   "source": []
  }
 ],
 "metadata": {
  "kernelspec": {
   "display_name": "Python 3 (ipykernel)",
   "language": "python",
   "name": "python3"
  },
  "language_info": {
   "codemirror_mode": {
    "name": "ipython",
    "version": 3
   },
   "file_extension": ".py",
   "mimetype": "text/x-python",
   "name": "python",
   "nbconvert_exporter": "python",
   "pygments_lexer": "ipython3",
   "version": "3.9.15"
  }
 },
 "nbformat": 4,
 "nbformat_minor": 5
}
