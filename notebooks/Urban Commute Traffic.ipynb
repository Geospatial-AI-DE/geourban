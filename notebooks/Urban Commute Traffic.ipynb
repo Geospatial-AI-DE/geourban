{
 "cells": [
  {
   "cell_type": "markdown",
   "id": "3fe4f79f",
   "metadata": {},
   "source": [
    "# Urban Commute Traffic\n",
    "Simulate the urban commute traffic for cities using [ArcGIS API for Python](https://developers.arcgis.com/python/)."
   ]
  },
  {
   "cell_type": "code",
   "execution_count": null,
   "id": "8696bf67",
   "metadata": {},
   "outputs": [],
   "source": [
    "# author: Jan Tschada\n",
    "# SPDX-License-Identifer: Apache-2.0"
   ]
  },
  {
   "cell_type": "markdown",
   "id": "108d6cf7",
   "metadata": {},
   "source": [
    "## Required Python modules\n",
    "You need to install ArcGIS API for Python, please follow the [guide](https://developers.arcgis.com/python/guide/anaconda/)."
   ]
  },
  {
   "cell_type": "code",
   "execution_count": null,
   "id": "3d3a6083",
   "metadata": {},
   "outputs": [],
   "source": [
    "from arcgis.gis import GIS\n",
    "from arcgis.features import FeatureSet\n",
    "from datetime import date, datetime, timedelta\n",
    "from georapid.client import GeoRapidClient\n",
    "from georapid.factory import EnvironmentClientFactory\n",
    "from geourban.services import aggregate, simulations\n",
    "from geourban.types import GridType, VehicleType"
   ]
  },
  {
   "cell_type": "markdown",
   "id": "a74240d2",
   "metadata": {},
   "source": [
    "# Connect to geourban services\n",
    "The host parameter must target the specific host like \"geoprotests.p.rapidapi.com\". Furthermore, the factory directly access `os.environ['x_rapidapi_key']` and uses the specified API key as a header parameter. Otherwise, `georapid.factory.EnvironmentClientFactory.create_client_with_host()` will raise a `ValueError`.\n",
    "\n",
    "Please, check out the [RapidAPI Account Creation and Management Guide](https://docs.rapidapi.com/docs/account-creation-and-settings)."
   ]
  },
  {
   "cell_type": "code",
   "execution_count": null,
   "id": "7a7a5255",
   "metadata": {},
   "outputs": [],
   "source": [
    "client = EnvironmentClientFactory.create_client_with_host('geourban.p.rapidapi.com')"
   ]
  },
  {
   "cell_type": "markdown",
   "id": "15b95422",
   "metadata": {},
   "source": [
    "## Accumulate the number of cars between 08:00 and 09:00 AM\n",
    "We create some utility function iterating through the available urban traffic simulations and yield return a new map for every urban region."
   ]
  },
  {
   "cell_type": "code",
   "execution_count": null,
   "id": "aec5a8ef",
   "metadata": {},
   "outputs": [],
   "source": [
    "def iter_maps(client, gis):\n",
    "    vehicle_type = VehicleType.CAR\n",
    "    grid_type = GridType.AGENT\n",
    "    urban_simulations = simulations(client)\n",
    "    for simulation in urban_simulations:\n",
    "        try:\n",
    "            region_code = simulation['region']\n",
    "            region_name = simulation['name']\n",
    "            simulation_datetime = datetime.fromisoformat(f\"{simulation['date']}T08:00:00\")\n",
    "            car_traffic_cells = aggregate(client, region_code, simulation_datetime, vehicle_type, grid_type)\n",
    "            car_traffic_fset = FeatureSet.from_geojson(car_traffic_cells)\n",
    "            car_traffic_sdf = car_traffic_fset.sdf\n",
    "            \n",
    "            # Create a new map\n",
    "            traffic_map = gis.map()\n",
    "            car_traffic_sdf.spatial.plot(traffic_map, renderer_type='c', method='esriClassifyNaturalBreaks', class_count=5, col='agent_count', cmap='YlOrRd')\n",
    "            traffic_map.zoom_to_layer(car_traffic_sdf)\n",
    "            yield traffic_map\n",
    "        except:\n",
    "            yield None\n",
    "\n",
    "def iter_simulation(simulations):\n",
    "    for simulation in simulations:\n",
    "        yield (urban_simulations[0]['region'], urban_simulations[0]['name'], datetime.fromisoformat(f\"{urban_simulations[0]['date']}T08:00:00\"))"
   ]
  },
  {
   "cell_type": "markdown",
   "id": "bad2425c",
   "metadata": {},
   "source": [
    "## Connect to ArcGIS Online"
   ]
  },
  {
   "cell_type": "code",
   "execution_count": null,
   "id": "c7f548e2",
   "metadata": {},
   "outputs": [],
   "source": [
    "gis = GIS()"
   ]
  },
  {
   "cell_type": "markdown",
   "id": "a7ec034c",
   "metadata": {},
   "source": [
    "## Map the traffic grid cells"
   ]
  },
  {
   "cell_type": "code",
   "execution_count": null,
   "id": "21fdc26d",
   "metadata": {},
   "outputs": [],
   "source": [
    "traffic_maps = iter_maps(client, gis)\n",
    "next(traffic_maps)"
   ]
  },
  {
   "cell_type": "code",
   "execution_count": null,
   "id": "abd30dbc",
   "metadata": {},
   "outputs": [],
   "source": [
    "next(traffic_maps)"
   ]
  },
  {
   "cell_type": "code",
   "execution_count": null,
   "id": "1aed8dde",
   "metadata": {},
   "outputs": [],
   "source": [
    "next(traffic_maps)"
   ]
  },
  {
   "cell_type": "code",
   "execution_count": null,
   "id": "98bebe45",
   "metadata": {},
   "outputs": [],
   "source": [
    "next(traffic_maps)"
   ]
  },
  {
   "cell_type": "code",
   "execution_count": null,
   "id": "cb3f2d12",
   "metadata": {},
   "outputs": [],
   "source": [
    "next(traffic_maps)"
   ]
  },
  {
   "cell_type": "code",
   "execution_count": null,
   "id": "82ceb92f",
   "metadata": {},
   "outputs": [],
   "source": [
    "next(traffic_maps)"
   ]
  },
  {
   "cell_type": "code",
   "execution_count": null,
   "id": "7862f913",
   "metadata": {},
   "outputs": [],
   "source": [
    "next(traffic_maps)"
   ]
  },
  {
   "cell_type": "code",
   "execution_count": null,
   "id": "7447c522",
   "metadata": {},
   "outputs": [],
   "source": [
    "next(traffic_maps)"
   ]
  },
  {
   "cell_type": "code",
   "execution_count": null,
   "id": "2f4bdb11",
   "metadata": {},
   "outputs": [],
   "source": [
    "next(traffic_maps)"
   ]
  },
  {
   "cell_type": "code",
   "execution_count": null,
   "id": "64dc04c3",
   "metadata": {},
   "outputs": [],
   "source": [
    "next(traffic_maps)"
   ]
  },
  {
   "cell_type": "code",
   "execution_count": null,
   "id": "45af9fd3",
   "metadata": {},
   "outputs": [],
   "source": [
    "next(traffic_maps)"
   ]
  },
  {
   "cell_type": "code",
   "execution_count": null,
   "id": "f1d37593",
   "metadata": {},
   "outputs": [],
   "source": [
    "next(traffic_maps)"
   ]
  },
  {
   "cell_type": "code",
   "execution_count": null,
   "id": "10eed702",
   "metadata": {},
   "outputs": [],
   "source": [
    "next(traffic_maps)"
   ]
  },
  {
   "cell_type": "code",
   "execution_count": null,
   "id": "9feb302c",
   "metadata": {},
   "outputs": [],
   "source": [
    "next(traffic_maps)"
   ]
  },
  {
   "cell_type": "code",
   "execution_count": null,
   "id": "22514e2c",
   "metadata": {},
   "outputs": [],
   "source": [
    "next(traffic_maps)"
   ]
  },
  {
   "cell_type": "code",
   "execution_count": null,
   "id": "63649412",
   "metadata": {},
   "outputs": [],
   "source": [
    "next(traffic_maps)"
   ]
  },
  {
   "cell_type": "code",
   "execution_count": null,
   "id": "18948901",
   "metadata": {},
   "outputs": [],
   "source": [
    "next(traffic_maps)"
   ]
  },
  {
   "cell_type": "code",
   "execution_count": null,
   "id": "9d0db019",
   "metadata": {},
   "outputs": [],
   "source": [
    "next(traffic_maps)"
   ]
  },
  {
   "cell_type": "code",
   "execution_count": null,
   "id": "e34e7a01",
   "metadata": {},
   "outputs": [],
   "source": [
    "next(traffic_maps)"
   ]
  },
  {
   "cell_type": "code",
   "execution_count": null,
   "id": "ad67000a",
   "metadata": {},
   "outputs": [],
   "source": []
  }
 ],
 "metadata": {
  "kernelspec": {
   "display_name": "Python 3 (ipykernel)",
   "language": "python",
   "name": "python3"
  },
  "language_info": {
   "codemirror_mode": {
    "name": "ipython",
    "version": 3
   },
   "file_extension": ".py",
   "mimetype": "text/x-python",
   "name": "python",
   "nbconvert_exporter": "python",
   "pygments_lexer": "ipython3",
   "version": "3.9.15"
  }
 },
 "nbformat": 4,
 "nbformat_minor": 5
}
