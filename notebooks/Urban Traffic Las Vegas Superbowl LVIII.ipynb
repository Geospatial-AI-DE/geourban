{
 "cells": [
  {
   "cell_type": "markdown",
   "id": "60389894",
   "metadata": {},
   "source": [
    "# Urban Traffic Las Vegas Superbowl LVIII\n",
    "Simulate the urban traffic from Las Vegas using [ArcGIS API for Python](https://developers.arcgis.com/python/)."
   ]
  },
  {
   "cell_type": "code",
   "execution_count": null,
   "id": "18cf80ec",
   "metadata": {},
   "outputs": [],
   "source": [
    "# author: Jan Tschada\n",
    "# SPDX-License-Identifer: Apache-2.0"
   ]
  },
  {
   "cell_type": "markdown",
   "id": "2f274f51",
   "metadata": {},
   "source": [
    "## Required Python modules\n",
    "You need to install ArcGIS API for Python, please follow the [guide](https://developers.arcgis.com/python/guide/anaconda/)."
   ]
  },
  {
   "cell_type": "code",
   "execution_count": null,
   "id": "d3f466d5",
   "metadata": {},
   "outputs": [],
   "source": [
    "from arcgis.gis import GIS\n",
    "from arcgis.features import FeatureSet\n",
    "from datetime import date, datetime, timedelta\n",
    "from georapid.client import GeoRapidClient\n",
    "from georapid.factory import EnvironmentClientFactory\n",
    "from geourban.services import aggregate, simulations, top\n",
    "from geourban.types import GridType, VehicleType"
   ]
  },
  {
   "cell_type": "markdown",
   "id": "db334ca0",
   "metadata": {},
   "source": [
    "## Connect to ArcGIS Online"
   ]
  },
  {
   "cell_type": "code",
   "execution_count": null,
   "id": "b87eb729",
   "metadata": {},
   "outputs": [],
   "source": [
    "gis = GIS()"
   ]
  },
  {
   "cell_type": "markdown",
   "id": "8ea7e14f",
   "metadata": {},
   "source": [
    "## Create a map showing the city of Las Vegas"
   ]
  },
  {
   "cell_type": "code",
   "execution_count": null,
   "id": "8b37ee6e",
   "metadata": {},
   "outputs": [],
   "source": [
    "vegas_map = gis.map('Las Vegas, Nevada', zoomlevel=13)\n",
    "vegas_map"
   ]
  },
  {
   "cell_type": "markdown",
   "id": "be557629",
   "metadata": {},
   "source": [
    "## Connect to geourban services"
   ]
  },
  {
   "cell_type": "markdown",
   "id": "a83ab556",
   "metadata": {},
   "source": [
    "The host parameter must target the specific host like \\\"geoprotests.p.rapidapi.com\\\". Furthermore, the factory directly access `os.environ['x_rapidapi_key']` and uses the specified API key as a header parameter. Otherwise, `georapid.factory.EnvironmentClientFactory.create_client_with_host()` will raise a `ValueError`.\n",
    "\n",
    "Please, check out the [RapidAPI Account Creation and Management Guide](https://docs.rapidapi.com/docs/account-creation-and-settings)."
   ]
  },
  {
   "cell_type": "code",
   "execution_count": null,
   "id": "c3cdbbad",
   "metadata": {},
   "outputs": [],
   "source": [
    "client = EnvironmentClientFactory.create_client_with_host('geourban.p.rapidapi.com')"
   ]
  },
  {
   "cell_type": "markdown",
   "id": "1c4da386",
   "metadata": {},
   "source": [
    "## Request and map the accumulated pedestrian traffic grid cells before and after the Superbowl LVIII\n",
    "We request these hotspots for the city of Las Vegas by using the urban region code `USQ27768421`, the simulation datetimes e.g. `2024-02-11T12:00:00`, the vehicle type `Pedestrian`, and the grid type `agent`. The returned GeoJSON features represents the grid cells showing the pedestrian throughput."
   ]
  },
  {
   "cell_type": "code",
   "execution_count": null,
   "id": "c57dfba6",
   "metadata": {},
   "outputs": [],
   "source": [
    "def map_pedestrian_traffic(client, simulation_datetime):\n",
    "    vegas_region_code = 'USQ27768421'\n",
    "    vehicle_type = VehicleType.PEDESTRIAN\n",
    "    grid_type = GridType.AGENT\n",
    "    pedestrian_cells = aggregate(client, vegas_region_code, simulation_datetime, vehicle_type, grid_type)\n",
    "    pedestrian_fset = FeatureSet.from_geojson(pedestrian_cells)\n",
    "    pedestrian_sdf = pedestrian_fset.sdf\n",
    "    vegas_map = gis.map('Las Vegas, Nevada', zoomlevel=13)\n",
    "    pedestrian_sdf.spatial.plot(vegas_map, renderer_type='c', method='esriClassifyNaturalBreaks', class_count=5, col='agent_count', cmap='YlOrRd')\n",
    "    vegas_map.zoom_to_layer(pedestrian_sdf)\n",
    "    return vegas_map"
   ]
  },
  {
   "cell_type": "markdown",
   "id": "2ebbb0ee",
   "metadata": {},
   "source": [
    "## Map of pedestrian traffic between 12:00 PM and 01:00 PM"
   ]
  },
  {
   "cell_type": "code",
   "execution_count": null,
   "id": "4b00eee4",
   "metadata": {},
   "outputs": [],
   "source": [
    "simulation_datetime = datetime.fromisoformat('2024-02-11T12:00:00')\n",
    "map_pedestrian_traffic(client, simulation_datetime)"
   ]
  },
  {
   "cell_type": "markdown",
   "id": "ff603b01",
   "metadata": {},
   "source": [
    "## Map of pedestrian traffic between 01:00 PM and 02:00 PM"
   ]
  },
  {
   "cell_type": "code",
   "execution_count": null,
   "id": "14a0e330",
   "metadata": {},
   "outputs": [],
   "source": [
    "simulation_datetime = datetime.fromisoformat('2024-02-11T13:00:00')\n",
    "map_pedestrian_traffic(client, simulation_datetime)"
   ]
  },
  {
   "cell_type": "markdown",
   "id": "ea256f98",
   "metadata": {},
   "source": [
    "## Map of pedestrian traffic between 02:00 PM and 03:00 PM"
   ]
  },
  {
   "cell_type": "code",
   "execution_count": null,
   "id": "99455fb1",
   "metadata": {},
   "outputs": [],
   "source": [
    "simulation_datetime = datetime.fromisoformat('2024-02-11T14:00:00')\n",
    "map_pedestrian_traffic(client, simulation_datetime)"
   ]
  },
  {
   "cell_type": "markdown",
   "id": "7c9036bd",
   "metadata": {},
   "source": [
    "## Map of pedestrian traffic after the game between 10:00 PM and 11:00 PM"
   ]
  },
  {
   "cell_type": "code",
   "execution_count": null,
   "id": "7eb9cba6",
   "metadata": {},
   "outputs": [],
   "source": [
    "simulation_datetime = datetime.fromisoformat('2024-02-11T22:00:00')\n",
    "map_pedestrian_traffic(client, simulation_datetime)"
   ]
  },
  {
   "cell_type": "code",
   "execution_count": null,
   "id": "f9537ef8",
   "metadata": {},
   "outputs": [],
   "source": []
  }
 ],
 "metadata": {
  "kernelspec": {
   "display_name": "Python 3 (ipykernel)",
   "language": "python",
   "name": "python3"
  },
  "language_info": {
   "codemirror_mode": {
    "name": "ipython",
    "version": 3
   },
   "file_extension": ".py",
   "mimetype": "text/x-python",
   "name": "python",
   "nbconvert_exporter": "python",
   "pygments_lexer": "ipython3",
   "version": "3.9.15"
  }
 },
 "nbformat": 4,
 "nbformat_minor": 5
}
