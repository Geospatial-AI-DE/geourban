{
 "cells": [
  {
   "cell_type": "markdown",
   "id": "273451c1",
   "metadata": {},
   "source": [
    "# Urban Traffic Bonn\n",
    "Simulate the urban traffic from the city of Bonn using [ArcGIS API for Python](https://developers.arcgis.com/python/)."
   ]
  },
  {
   "cell_type": "code",
   "execution_count": null,
   "id": "9058ccbc",
   "metadata": {},
   "outputs": [],
   "source": [
    "# author: Jan Tschada\n",
    "# SPDX-License-Identifer: Apache-2.0"
   ]
  },
  {
   "cell_type": "markdown",
   "id": "2369c5e3",
   "metadata": {},
   "source": [
    "## Required Python modules\n",
    "You need to install ArcGIS API for Python, please follow the [guide](https://developers.arcgis.com/python/guide/anaconda/)."
   ]
  },
  {
   "cell_type": "code",
   "execution_count": null,
   "id": "c99bb313",
   "metadata": {},
   "outputs": [],
   "source": [
    "from arcgis.gis import GIS\n",
    "from arcgis.features import FeatureSet\n",
    "from datetime import date, datetime\n",
    "from georapid.client import GeoRapidClient\n",
    "from georapid.factory import EnvironmentClientFactory\n",
    "from geourban.services import aggregate, query, simulations, top\n",
    "from geourban.types import GridType, VehicleType"
   ]
  },
  {
   "cell_type": "markdown",
   "id": "2ac83fa8",
   "metadata": {},
   "source": [
    "## Connect to ArcGIS Online"
   ]
  },
  {
   "cell_type": "code",
   "execution_count": null,
   "id": "a8e3ad4b",
   "metadata": {},
   "outputs": [],
   "source": [
    "gis = GIS()"
   ]
  },
  {
   "cell_type": "markdown",
   "id": "6e5447bc",
   "metadata": {},
   "source": [
    "## Create a map showing the city of Bonn"
   ]
  },
  {
   "cell_type": "code",
   "execution_count": null,
   "id": "d0d3a9b3",
   "metadata": {},
   "outputs": [],
   "source": [
    "bonn_map = gis.map('Bonn, Germany')\n",
    "bonn_map"
   ]
  },
  {
   "cell_type": "markdown",
   "id": "06e1b1c0",
   "metadata": {},
   "source": [
    "# Connect to geourban services\n",
    "The host parameter must target the specific host like \"geoprotests.p.rapidapi.com\". Furthermore, the factory directly access `os.environ['x_rapidapi_key']` and uses the specified API key as a header parameter. Otherwise, `georapid.factory.EnvironmentClientFactory.create_client_with_host()` will raise a `ValueError`.\n",
    "\n",
    "Please, check out the [RapidAPI Account Creation and Management Guide](https://docs.rapidapi.com/docs/account-creation-and-settings)."
   ]
  },
  {
   "cell_type": "code",
   "execution_count": null,
   "id": "1d729e79",
   "metadata": {},
   "outputs": [],
   "source": [
    "client = EnvironmentClientFactory.create_client_with_host('geourban.p.rapidapi.com')"
   ]
  },
  {
   "cell_type": "markdown",
   "id": "dda35350",
   "metadata": {},
   "source": [
    "# List the available simulations"
   ]
  },
  {
   "cell_type": "code",
   "execution_count": null,
   "id": "e62a2943",
   "metadata": {},
   "outputs": [],
   "source": [
    "urban_simulations = simulations(client)\n",
    "urban_simulations"
   ]
  },
  {
   "cell_type": "markdown",
   "id": "abcba225",
   "metadata": {},
   "source": [
    "## Request the top 5 accumulated car traffic grid cells\n",
    "We request these hotspots for the city of Bonn by using the urban region code `DEA22`, the simulation date `2023-08-24`, the vehicle type `Car`, and the grid type `agent`. The returned GeoJSON features represents the grid cells with the highest car throughput."
   ]
  },
  {
   "cell_type": "code",
   "execution_count": null,
   "id": "94c022cb",
   "metadata": {},
   "outputs": [],
   "source": [
    "bonn_region_code = 'DEA22'\n",
    "simulation_date = date(2023, 8, 24)\n",
    "vehicle_type = VehicleType.CAR\n",
    "grid_type = GridType.AGENT\n",
    "limit = 5\n",
    "top_traffic_grid_cells = top(client, bonn_region_code, simulation_date, vehicle_type, grid_type, limit=limit)\n",
    "top_traffic_grid_cells"
   ]
  },
  {
   "cell_type": "markdown",
   "id": "0444d2e1",
   "metadata": {},
   "source": [
    "## Convert the returned GeoJSON result into a FeatureSet\n",
    "The FeatureSet offers direct access to a spatially enabled dataframe. We can easily inspect the time frames (`start_time` - `end_time`) and the number of car vehicles `agent_count`."
   ]
  },
  {
   "cell_type": "code",
   "execution_count": null,
   "id": "52e761fa",
   "metadata": {},
   "outputs": [],
   "source": [
    "bonn_top_traffic_fset = FeatureSet.from_geojson(top_traffic_grid_cells)\n",
    "top_traffic_sdf = bonn_top_traffic_fset.sdf\n",
    "top_traffic_sdf"
   ]
  },
  {
   "cell_type": "markdown",
   "id": "2c393ac8",
   "metadata": {},
   "source": [
    "## Map the traffic grid cells"
   ]
  },
  {
   "cell_type": "code",
   "execution_count": null,
   "id": "53ef6c9d",
   "metadata": {},
   "outputs": [],
   "source": [
    "top_traffic_sdf.spatial.plot(bonn_map)\n",
    "bonn_map"
   ]
  },
  {
   "cell_type": "code",
   "execution_count": null,
   "id": "3a82ad80",
   "metadata": {},
   "outputs": [],
   "source": []
  }
 ],
 "metadata": {
  "kernelspec": {
   "display_name": "Python 3 (ipykernel)",
   "language": "python",
   "name": "python3"
  },
  "language_info": {
   "codemirror_mode": {
    "name": "ipython",
    "version": 3
   },
   "file_extension": ".py",
   "mimetype": "text/x-python",
   "name": "python",
   "nbconvert_exporter": "python",
   "pygments_lexer": "ipython3",
   "version": "3.9.15"
  }
 },
 "nbformat": 4,
 "nbformat_minor": 5
}
