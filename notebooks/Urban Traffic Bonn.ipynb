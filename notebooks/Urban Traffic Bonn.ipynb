{
 "cells": [
  {
   "cell_type": "markdown",
   "id": "273451c1",
   "metadata": {},
   "source": [
    "# Urban Traffic Bonn\n",
    "Simulate the urban traffic from the city of Bonn using [ArcGIS API for Python](https://developers.arcgis.com/python/)."
   ]
  },
  {
   "cell_type": "code",
   "execution_count": 1,
   "id": "9058ccbc",
   "metadata": {},
   "outputs": [],
   "source": [
    "# author: Jan Tschada\n",
    "# SPDX-License-Identifer: Apache-2.0"
   ]
  },
  {
   "cell_type": "markdown",
   "id": "2369c5e3",
   "metadata": {},
   "source": [
    "## Required Python modules\n",
    "You need to install ArcGIS API for Python, please follow the [guide](https://developers.arcgis.com/python/guide/anaconda/)."
   ]
  },
  {
   "cell_type": "code",
   "execution_count": 12,
   "id": "c99bb313",
   "metadata": {},
   "outputs": [],
   "source": [
    "from arcgis.gis import GIS\n",
    "from arcgis.features import FeatureSet\n",
    "from datetime import date, datetime, timedelta\n",
    "from georapid.client import GeoRapidClient\n",
    "from georapid.factory import EnvironmentClientFactory\n",
    "from geourban.services import aggregate, query, simulations, top\n",
    "from geourban.types import GridType, VehicleType"
   ]
  },
  {
   "cell_type": "markdown",
   "id": "2ac83fa8",
   "metadata": {},
   "source": [
    "## Connect to ArcGIS Online"
   ]
  },
  {
   "cell_type": "code",
   "execution_count": 3,
   "id": "a8e3ad4b",
   "metadata": {},
   "outputs": [],
   "source": [
    "gis = GIS()"
   ]
  },
  {
   "cell_type": "markdown",
   "id": "6e5447bc",
   "metadata": {},
   "source": [
    "## Create a map showing the city of Bonn"
   ]
  },
  {
   "cell_type": "code",
   "execution_count": 4,
   "id": "d0d3a9b3",
   "metadata": {},
   "outputs": [
    {
     "data": {
      "application/vnd.jupyter.widget-view+json": {
       "model_id": "d51145c4a92b4a7cbff9bb21bbaafbfb",
       "version_major": 2,
       "version_minor": 0
      },
      "text/plain": [
       "MapView(layout=Layout(height='400px', width='100%'))"
      ]
     },
     "metadata": {},
     "output_type": "display_data"
    },
    {
     "data": {
      "text/html": [
       "<div class=\"map-static-img-preview-80827439-c510-4f45-9103-2aa3611d3585\"><img src=\"\"></img></div>"
      ],
      "text/plain": [
       "<IPython.core.display.HTML object>"
      ]
     },
     "metadata": {},
     "output_type": "display_data"
    },
    {
     "data": {
      "text/html": [
       "<div class=\"map-html-embed-preview-80827439-c510-4f45-9103-2aa3611d3585\"></div>"
      ],
      "text/plain": [
       "<IPython.core.display.HTML object>"
      ]
     },
     "metadata": {},
     "output_type": "display_data"
    }
   ],
   "source": [
    "bonn_map = gis.map('Bonn, Germany')\n",
    "bonn_map"
   ]
  },
  {
   "cell_type": "markdown",
   "id": "06e1b1c0",
   "metadata": {},
   "source": [
    "# Connect to geourban services\n",
    "The host parameter must target the specific host like \"geoprotests.p.rapidapi.com\". Furthermore, the factory directly access `os.environ['x_rapidapi_key']` and uses the specified API key as a header parameter. Otherwise, `georapid.factory.EnvironmentClientFactory.create_client_with_host()` will raise a `ValueError`.\n",
    "\n",
    "Please, check out the [RapidAPI Account Creation and Management Guide](https://docs.rapidapi.com/docs/account-creation-and-settings)."
   ]
  },
  {
   "cell_type": "code",
   "execution_count": 5,
   "id": "1d729e79",
   "metadata": {},
   "outputs": [],
   "source": [
    "client = EnvironmentClientFactory.create_client_with_host('geourban.p.rapidapi.com')"
   ]
  },
  {
   "cell_type": "markdown",
   "id": "dda35350",
   "metadata": {},
   "source": [
    "# List the available simulations"
   ]
  },
  {
   "cell_type": "code",
   "execution_count": 6,
   "id": "e62a2943",
   "metadata": {},
   "outputs": [
    {
     "data": {
      "text/plain": [
       "[{'region': 'DEA2D', 'name': 'Aachen, Stadt', 'date': '2023-12-10'},\n",
       " {'region': 'DE246', 'name': 'Bayreuth, Landkreis', 'date': '2023-12-28'},\n",
       " {'region': 'DE300', 'name': 'Berlin', 'date': '2023-08-25'},\n",
       " {'region': 'DEA22', 'name': 'Bonn, Kreisfreie Stadt', 'date': '2023-08-24'},\n",
       " {'region': 'DEE01', 'name': 'Dessau-Roßlau, Stadt', 'date': '2023-08-24'},\n",
       " {'region': 'DED21', 'name': 'Dresden, Stadt', 'date': '2023-12-10'},\n",
       " {'region': 'DEA12',\n",
       "  'name': 'Duisburg, Kreisfreie Stadt',\n",
       "  'date': '2023-12-22'},\n",
       " {'region': 'DE113', 'name': 'Esslingen, Landkreis', 'date': '2023-12-19'},\n",
       " {'region': 'DE712',\n",
       "  'name': 'Frankfurt am Main, Kreisfreie Stadt',\n",
       "  'date': '2023-11-21'},\n",
       " {'region': 'DE929', 'name': 'Hannover, Region', 'date': '2023-11-09'},\n",
       " {'region': 'DE115', 'name': 'Ludwigsburg, Landkreis', 'date': '2023-12-18'},\n",
       " {'region': 'DEA1C', 'name': 'Mettmann, Kreis', 'date': '2023-12-27'},\n",
       " {'region': 'DE212',\n",
       "  'name': 'München, Landeshauptstadt, Kreisfreie Stadt',\n",
       "  'date': '2023-11-01'},\n",
       " {'region': 'DE228', 'name': 'Passau, Landkreis', 'date': '2023-12-28'},\n",
       " {'region': 'DEA2C', 'name': 'Rhein-Sieg-Kreis', 'date': '2023-12-09'},\n",
       " {'region': 'DE229', 'name': 'Schwandorf, Landkreis', 'date': '2023-12-28'},\n",
       " {'region': 'DE111',\n",
       "  'name': 'Stuttgart, Landeshauptstadt, Kreisfreie Stadt',\n",
       "  'date': '2023-11-25'}]"
      ]
     },
     "execution_count": 6,
     "metadata": {},
     "output_type": "execute_result"
    }
   ],
   "source": [
    "urban_simulations = simulations(client)\n",
    "urban_simulations"
   ]
  },
  {
   "cell_type": "markdown",
   "id": "abcba225",
   "metadata": {},
   "source": [
    "## Request the top 5 accumulated car traffic grid cells\n",
    "We request these hotspots for the city of Bonn by using the urban region code `DEA22`, the simulation date `2023-08-24`, the vehicle type `Car`, and the grid type `agent`. The returned GeoJSON features represents the grid cells with the highest car throughput."
   ]
  },
  {
   "cell_type": "code",
   "execution_count": 7,
   "id": "94c022cb",
   "metadata": {},
   "outputs": [
    {
     "data": {
      "text/plain": [
       "{'type': 'FeatureCollection',\n",
       " 'features': [{'type': 'Feature',\n",
       "   'geometry': {'type': 'Polygon',\n",
       "    'coordinates': [[[7.07375, 50.74601],\n",
       "      [7.07504, 50.74601],\n",
       "      [7.07569, 50.74672],\n",
       "      [7.07504, 50.74743],\n",
       "      [7.07375, 50.74743],\n",
       "      [7.0731, 50.74672],\n",
       "      [7.07375, 50.74601]]]},\n",
       "   'properties': {'start_time': '2023-08-24T08:00:00',\n",
       "    'end_time': '2023-08-24T08:59:59',\n",
       "    'agent_count': 439}},\n",
       "  {'type': 'Feature',\n",
       "   'geometry': {'type': 'Polygon',\n",
       "    'coordinates': [[[7.07375, 50.74601],\n",
       "      [7.07504, 50.74601],\n",
       "      [7.07569, 50.74672],\n",
       "      [7.07504, 50.74743],\n",
       "      [7.07375, 50.74743],\n",
       "      [7.0731, 50.74672],\n",
       "      [7.07375, 50.74601]]]},\n",
       "   'properties': {'start_time': '2023-08-24T09:00:00',\n",
       "    'end_time': '2023-08-24T09:59:59',\n",
       "    'agent_count': 427}},\n",
       "  {'type': 'Feature',\n",
       "   'geometry': {'type': 'Polygon',\n",
       "    'coordinates': [[[7.07375, 50.74601],\n",
       "      [7.07504, 50.74601],\n",
       "      [7.07569, 50.74672],\n",
       "      [7.07504, 50.74743],\n",
       "      [7.07375, 50.74743],\n",
       "      [7.0731, 50.74672],\n",
       "      [7.07375, 50.74601]]]},\n",
       "   'properties': {'start_time': '2023-08-24T07:00:00',\n",
       "    'end_time': '2023-08-24T07:59:59',\n",
       "    'agent_count': 422}},\n",
       "  {'type': 'Feature',\n",
       "   'geometry': {'type': 'Polygon',\n",
       "    'coordinates': [[[7.07569, 50.74672],\n",
       "      [7.07699, 50.74672],\n",
       "      [7.07764, 50.74743],\n",
       "      [7.07699, 50.74814],\n",
       "      [7.07569, 50.74814],\n",
       "      [7.07504, 50.74743],\n",
       "      [7.07569, 50.74672]]]},\n",
       "   'properties': {'start_time': '2023-08-24T08:00:00',\n",
       "    'end_time': '2023-08-24T08:59:59',\n",
       "    'agent_count': 421}},\n",
       "  {'type': 'Feature',\n",
       "   'geometry': {'type': 'Polygon',\n",
       "    'coordinates': [[[7.07569, 50.74672],\n",
       "      [7.07699, 50.74672],\n",
       "      [7.07764, 50.74743],\n",
       "      [7.07699, 50.74814],\n",
       "      [7.07569, 50.74814],\n",
       "      [7.07504, 50.74743],\n",
       "      [7.07569, 50.74672]]]},\n",
       "   'properties': {'start_time': '2023-08-24T09:00:00',\n",
       "    'end_time': '2023-08-24T09:59:59',\n",
       "    'agent_count': 408}}]}"
      ]
     },
     "execution_count": 7,
     "metadata": {},
     "output_type": "execute_result"
    }
   ],
   "source": [
    "bonn_region_code = 'DEA22'\n",
    "simulation_date = date(2023, 8, 24)\n",
    "vehicle_type = VehicleType.CAR\n",
    "grid_type = GridType.AGENT\n",
    "limit = 5\n",
    "top_traffic_grid_cells = top(client, bonn_region_code, simulation_date, vehicle_type, grid_type, limit=limit)\n",
    "top_traffic_grid_cells"
   ]
  },
  {
   "cell_type": "markdown",
   "id": "0444d2e1",
   "metadata": {},
   "source": [
    "## Convert the returned GeoJSON result into a FeatureSet\n",
    "The FeatureSet offers direct access to a spatially enabled dataframe. We can easily inspect the time frames (`start_time` - `end_time`) and the number of car vehicles `agent_count`."
   ]
  },
  {
   "cell_type": "code",
   "execution_count": 8,
   "id": "52e761fa",
   "metadata": {},
   "outputs": [
    {
     "data": {
      "text/html": [
       "<div>\n",
       "<style scoped>\n",
       "    .dataframe tbody tr th:only-of-type {\n",
       "        vertical-align: middle;\n",
       "    }\n",
       "\n",
       "    .dataframe tbody tr th {\n",
       "        vertical-align: top;\n",
       "    }\n",
       "\n",
       "    .dataframe thead th {\n",
       "        text-align: right;\n",
       "    }\n",
       "</style>\n",
       "<table border=\"1\" class=\"dataframe\">\n",
       "  <thead>\n",
       "    <tr style=\"text-align: right;\">\n",
       "      <th></th>\n",
       "      <th>start_time</th>\n",
       "      <th>end_time</th>\n",
       "      <th>agent_count</th>\n",
       "      <th>OBJECTID</th>\n",
       "      <th>SHAPE</th>\n",
       "    </tr>\n",
       "  </thead>\n",
       "  <tbody>\n",
       "    <tr>\n",
       "      <th>0</th>\n",
       "      <td>2023-08-24T08:00:00</td>\n",
       "      <td>2023-08-24T08:59:59</td>\n",
       "      <td>439</td>\n",
       "      <td>1</td>\n",
       "      <td>{\"rings\": [[[7.07375, 50.74601], [7.07504, 50....</td>\n",
       "    </tr>\n",
       "    <tr>\n",
       "      <th>1</th>\n",
       "      <td>2023-08-24T09:00:00</td>\n",
       "      <td>2023-08-24T09:59:59</td>\n",
       "      <td>427</td>\n",
       "      <td>2</td>\n",
       "      <td>{\"rings\": [[[7.07375, 50.74601], [7.07504, 50....</td>\n",
       "    </tr>\n",
       "    <tr>\n",
       "      <th>2</th>\n",
       "      <td>2023-08-24T07:00:00</td>\n",
       "      <td>2023-08-24T07:59:59</td>\n",
       "      <td>422</td>\n",
       "      <td>3</td>\n",
       "      <td>{\"rings\": [[[7.07375, 50.74601], [7.07504, 50....</td>\n",
       "    </tr>\n",
       "    <tr>\n",
       "      <th>3</th>\n",
       "      <td>2023-08-24T08:00:00</td>\n",
       "      <td>2023-08-24T08:59:59</td>\n",
       "      <td>421</td>\n",
       "      <td>4</td>\n",
       "      <td>{\"rings\": [[[7.07569, 50.74672], [7.07699, 50....</td>\n",
       "    </tr>\n",
       "    <tr>\n",
       "      <th>4</th>\n",
       "      <td>2023-08-24T09:00:00</td>\n",
       "      <td>2023-08-24T09:59:59</td>\n",
       "      <td>408</td>\n",
       "      <td>5</td>\n",
       "      <td>{\"rings\": [[[7.07569, 50.74672], [7.07699, 50....</td>\n",
       "    </tr>\n",
       "  </tbody>\n",
       "</table>\n",
       "</div>"
      ],
      "text/plain": [
       "            start_time             end_time agent_count  OBJECTID  \\\n",
       "0  2023-08-24T08:00:00  2023-08-24T08:59:59         439         1   \n",
       "1  2023-08-24T09:00:00  2023-08-24T09:59:59         427         2   \n",
       "2  2023-08-24T07:00:00  2023-08-24T07:59:59         422         3   \n",
       "3  2023-08-24T08:00:00  2023-08-24T08:59:59         421         4   \n",
       "4  2023-08-24T09:00:00  2023-08-24T09:59:59         408         5   \n",
       "\n",
       "                                               SHAPE  \n",
       "0  {\"rings\": [[[7.07375, 50.74601], [7.07504, 50....  \n",
       "1  {\"rings\": [[[7.07375, 50.74601], [7.07504, 50....  \n",
       "2  {\"rings\": [[[7.07375, 50.74601], [7.07504, 50....  \n",
       "3  {\"rings\": [[[7.07569, 50.74672], [7.07699, 50....  \n",
       "4  {\"rings\": [[[7.07569, 50.74672], [7.07699, 50....  "
      ]
     },
     "execution_count": 8,
     "metadata": {},
     "output_type": "execute_result"
    }
   ],
   "source": [
    "bonn_top_traffic_fset = FeatureSet.from_geojson(top_traffic_grid_cells)\n",
    "top_traffic_sdf = bonn_top_traffic_fset.sdf\n",
    "top_traffic_sdf"
   ]
  },
  {
   "cell_type": "markdown",
   "id": "2c393ac8",
   "metadata": {},
   "source": [
    "## Map the traffic grid cells"
   ]
  },
  {
   "cell_type": "code",
   "execution_count": 9,
   "id": "53ef6c9d",
   "metadata": {},
   "outputs": [
    {
     "data": {
      "application/vnd.jupyter.widget-view+json": {
       "model_id": "d51145c4a92b4a7cbff9bb21bbaafbfb",
       "version_major": 2,
       "version_minor": 0
      },
      "text/plain": [
       "MapView(jupyter_target='notebook', layout=Layout(height='400px', width='100%'), ready=True)"
      ]
     },
     "metadata": {},
     "output_type": "display_data"
    },
    {
     "data": {
      "text/html": [
       "<div class=\"map-static-img-preview-80827439-c510-4f45-9103-2aa3611d3585\"><img src=\"\"></img></div>"
      ],
      "text/plain": [
       "<IPython.core.display.HTML object>"
      ]
     },
     "metadata": {},
     "output_type": "display_data"
    },
    {
     "data": {
      "text/html": [
       "<div class=\"map-html-embed-preview-80827439-c510-4f45-9103-2aa3611d3585\"></div>"
      ],
      "text/plain": [
       "<IPython.core.display.HTML object>"
      ]
     },
     "metadata": {},
     "output_type": "display_data"
    }
   ],
   "source": [
    "top_traffic_sdf.spatial.plot(bonn_map)\n",
    "bonn_map"
   ]
  },
  {
   "cell_type": "markdown",
   "id": "abeb8a8c",
   "metadata": {},
   "source": [
    "# Query the simulated agents nearby\n",
    "We are using the center of this crossroad intersection, request the simulated agents being within a distance of `1 kilometer`, and specify a `2 minutes` time window starting from `08:00:00`."
   ]
  },
  {
   "cell_type": "code",
   "execution_count": 15,
   "id": "7982f8fb",
   "metadata": {},
   "outputs": [
    {
     "data": {
      "text/html": [
       "<div>\n",
       "<style scoped>\n",
       "    .dataframe tbody tr th:only-of-type {\n",
       "        vertical-align: middle;\n",
       "    }\n",
       "\n",
       "    .dataframe tbody tr th {\n",
       "        vertical-align: top;\n",
       "    }\n",
       "\n",
       "    .dataframe thead th {\n",
       "        text-align: right;\n",
       "    }\n",
       "</style>\n",
       "<table border=\"1\" class=\"dataframe\">\n",
       "  <thead>\n",
       "    <tr style=\"text-align: right;\">\n",
       "      <th></th>\n",
       "      <th>trip</th>\n",
       "      <th>person</th>\n",
       "      <th>trip_time</th>\n",
       "      <th>OBJECTID</th>\n",
       "      <th>SHAPE</th>\n",
       "    </tr>\n",
       "  </thead>\n",
       "  <tbody>\n",
       "    <tr>\n",
       "      <th>0</th>\n",
       "      <td>1562</td>\n",
       "      <td>966</td>\n",
       "      <td>2023-08-24T08:00:00</td>\n",
       "      <td>1</td>\n",
       "      <td>{\"x\": 7.08169, \"y\": 50.75054, \"spatialReferenc...</td>\n",
       "    </tr>\n",
       "    <tr>\n",
       "      <th>1</th>\n",
       "      <td>2813</td>\n",
       "      <td>1738</td>\n",
       "      <td>2023-08-24T08:00:00</td>\n",
       "      <td>2</td>\n",
       "      <td>{\"x\": 7.06715, \"y\": 50.74203, \"spatialReferenc...</td>\n",
       "    </tr>\n",
       "    <tr>\n",
       "      <th>2</th>\n",
       "      <td>6476</td>\n",
       "      <td>4048</td>\n",
       "      <td>2023-08-24T08:00:00</td>\n",
       "      <td>3</td>\n",
       "      <td>{\"x\": 7.07926, \"y\": 50.74946, \"spatialReferenc...</td>\n",
       "    </tr>\n",
       "    <tr>\n",
       "      <th>3</th>\n",
       "      <td>6051</td>\n",
       "      <td>3781</td>\n",
       "      <td>2023-08-24T08:00:00</td>\n",
       "      <td>4</td>\n",
       "      <td>{\"x\": 7.08263, \"y\": 50.75098, \"spatialReferenc...</td>\n",
       "    </tr>\n",
       "    <tr>\n",
       "      <th>4</th>\n",
       "      <td>1365</td>\n",
       "      <td>845</td>\n",
       "      <td>2023-08-24T08:00:00</td>\n",
       "      <td>5</td>\n",
       "      <td>{\"x\": 7.07359, \"y\": 50.74461, \"spatialReferenc...</td>\n",
       "    </tr>\n",
       "    <tr>\n",
       "      <th>...</th>\n",
       "      <td>...</td>\n",
       "      <td>...</td>\n",
       "      <td>...</td>\n",
       "      <td>...</td>\n",
       "      <td>...</td>\n",
       "    </tr>\n",
       "    <tr>\n",
       "      <th>1832</th>\n",
       "      <td>5751</td>\n",
       "      <td>3598</td>\n",
       "      <td>2023-08-24T08:01:59</td>\n",
       "      <td>1833</td>\n",
       "      <td>{\"x\": 7.06613, \"y\": 50.74851, \"spatialReferenc...</td>\n",
       "    </tr>\n",
       "    <tr>\n",
       "      <th>1833</th>\n",
       "      <td>1405</td>\n",
       "      <td>871</td>\n",
       "      <td>2023-08-24T08:01:59</td>\n",
       "      <td>1834</td>\n",
       "      <td>{\"x\": 7.07217, \"y\": 50.73929, \"spatialReferenc...</td>\n",
       "    </tr>\n",
       "    <tr>\n",
       "      <th>1834</th>\n",
       "      <td>7133</td>\n",
       "      <td>4455</td>\n",
       "      <td>2023-08-24T08:01:59</td>\n",
       "      <td>1835</td>\n",
       "      <td>{\"x\": 7.07291, \"y\": 50.74686, \"spatialReferenc...</td>\n",
       "    </tr>\n",
       "    <tr>\n",
       "      <th>1835</th>\n",
       "      <td>4651</td>\n",
       "      <td>2914</td>\n",
       "      <td>2023-08-24T08:01:59</td>\n",
       "      <td>1836</td>\n",
       "      <td>{\"x\": 7.07389, \"y\": 50.74639, \"spatialReferenc...</td>\n",
       "    </tr>\n",
       "    <tr>\n",
       "      <th>1836</th>\n",
       "      <td>6782</td>\n",
       "      <td>4240</td>\n",
       "      <td>2023-08-24T08:01:59</td>\n",
       "      <td>1837</td>\n",
       "      <td>{\"x\": 7.07849, \"y\": 50.74133, \"spatialReferenc...</td>\n",
       "    </tr>\n",
       "  </tbody>\n",
       "</table>\n",
       "<p>1837 rows × 5 columns</p>\n",
       "</div>"
      ],
      "text/plain": [
       "      trip person            trip_time  OBJECTID  \\\n",
       "0     1562    966  2023-08-24T08:00:00         1   \n",
       "1     2813   1738  2023-08-24T08:00:00         2   \n",
       "2     6476   4048  2023-08-24T08:00:00         3   \n",
       "3     6051   3781  2023-08-24T08:00:00         4   \n",
       "4     1365    845  2023-08-24T08:00:00         5   \n",
       "...    ...    ...                  ...       ...   \n",
       "1832  5751   3598  2023-08-24T08:01:59      1833   \n",
       "1833  1405    871  2023-08-24T08:01:59      1834   \n",
       "1834  7133   4455  2023-08-24T08:01:59      1835   \n",
       "1835  4651   2914  2023-08-24T08:01:59      1836   \n",
       "1836  6782   4240  2023-08-24T08:01:59      1837   \n",
       "\n",
       "                                                  SHAPE  \n",
       "0     {\"x\": 7.08169, \"y\": 50.75054, \"spatialReferenc...  \n",
       "1     {\"x\": 7.06715, \"y\": 50.74203, \"spatialReferenc...  \n",
       "2     {\"x\": 7.07926, \"y\": 50.74946, \"spatialReferenc...  \n",
       "3     {\"x\": 7.08263, \"y\": 50.75098, \"spatialReferenc...  \n",
       "4     {\"x\": 7.07359, \"y\": 50.74461, \"spatialReferenc...  \n",
       "...                                                 ...  \n",
       "1832  {\"x\": 7.06613, \"y\": 50.74851, \"spatialReferenc...  \n",
       "1833  {\"x\": 7.07217, \"y\": 50.73929, \"spatialReferenc...  \n",
       "1834  {\"x\": 7.07291, \"y\": 50.74686, \"spatialReferenc...  \n",
       "1835  {\"x\": 7.07389, \"y\": 50.74639, \"spatialReferenc...  \n",
       "1836  {\"x\": 7.07849, \"y\": 50.74133, \"spatialReferenc...  \n",
       "\n",
       "[1837 rows x 5 columns]"
      ]
     },
     "execution_count": 15,
     "metadata": {},
     "output_type": "execute_result"
    }
   ],
   "source": [
    "simulation_datetime = datetime.fromisoformat('2023-08-24T08:00:00')\n",
    "(latitude, longitude) = (50.746708, 7.074405)\n",
    "(seconds, meters) = (120, 1000)\n",
    "car_positions = query(client, simulation_datetime, vehicle_type, latitude, longitude, seconds, meters)\n",
    "car_positions_fset = FeatureSet.from_geojson(car_positions)\n",
    "car_positions_sdf = car_positions_fset.sdf\n",
    "car_positions_sdf"
   ]
  },
  {
   "cell_type": "markdown",
   "id": "d1b2cbfc",
   "metadata": {},
   "source": [
    "## Map the car positions nearby"
   ]
  },
  {
   "cell_type": "code",
   "execution_count": 19,
   "id": "a125320b",
   "metadata": {},
   "outputs": [
    {
     "data": {
      "application/vnd.jupyter.widget-view+json": {
       "model_id": "8e67465666ba4b348acf24700b256903",
       "version_major": 2,
       "version_minor": 0
      },
      "text/plain": [
       "MapView(layout=Layout(height='400px', width='100%'))"
      ]
     },
     "metadata": {},
     "output_type": "display_data"
    },
    {
     "data": {
      "text/html": [
       "<div class=\"map-static-img-preview-5666d39c-9039-4bf8-99a6-18a00073a41e\"><img src=\"\"></img></div>"
      ],
      "text/plain": [
       "<IPython.core.display.HTML object>"
      ]
     },
     "metadata": {},
     "output_type": "display_data"
    },
    {
     "data": {
      "text/html": [
       "<div class=\"map-html-embed-preview-5666d39c-9039-4bf8-99a6-18a00073a41e\"></div>"
      ],
      "text/plain": [
       "<IPython.core.display.HTML object>"
      ]
     },
     "metadata": {},
     "output_type": "display_data"
    }
   ],
   "source": [
    "bonn_map = gis.map('Bonn, Germay')\n",
    "car_positions_sdf.spatial.plot(bonn_map, ms=3)\n",
    "bonn_map"
   ]
  },
  {
   "cell_type": "code",
   "execution_count": null,
   "id": "ec46a4eb",
   "metadata": {},
   "outputs": [],
   "source": []
  }
 ],
 "metadata": {
  "kernelspec": {
   "display_name": "Python 3 (ipykernel)",
   "language": "python",
   "name": "python3"
  },
  "language_info": {
   "codemirror_mode": {
    "name": "ipython",
    "version": 3
   },
   "file_extension": ".py",
   "mimetype": "text/x-python",
   "name": "python",
   "nbconvert_exporter": "python",
   "pygments_lexer": "ipython3",
   "version": "3.9.15"
  }
 },
 "nbformat": 4,
 "nbformat_minor": 5
}
