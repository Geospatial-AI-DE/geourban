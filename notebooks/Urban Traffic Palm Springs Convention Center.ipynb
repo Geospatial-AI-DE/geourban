{
 "cells": [
  {
   "cell_type": "markdown",
   "id": "88650516",
   "metadata": {},
   "source": [
    "# Urban Traffic Palm Springs Convention Center\n",
    "Simulate the urban traffic from the city of Palm Springs nearby the Convention Center where the Esri Developer Summit takes place using [ArcGIS API for Python](https://developers.arcgis.com/python/)."
   ]
  },
  {
   "cell_type": "code",
   "execution_count": 1,
   "id": "b2773880",
   "metadata": {},
   "outputs": [],
   "source": [
    "# author: Jan Tschada\n",
    "# SPDX-License-Identifer: Apache-2.0"
   ]
  },
  {
   "cell_type": "markdown",
   "id": "5bc2dd3a",
   "metadata": {},
   "source": [
    "## Required Python Modules\n",
    "You need to install ArcGIS API for Python, please follow the [guide](https://developers.arcgis.com/python/guide/anaconda/)."
   ]
  },
  {
   "cell_type": "code",
   "execution_count": 2,
   "id": "07a8837a",
   "metadata": {},
   "outputs": [],
   "source": [
    "from arcgis.gis import GIS\n",
    "from arcgis.features import FeatureSet\n",
    "from datetime import date, datetime, timedelta\n",
    "from georapid.client import GeoRapidClient\n",
    "from georapid.factory import EnvironmentClientFactory\n",
    "from geourban.services import aggregate, query, simulations, top\n",
    "from geourban.types import GridType, VehicleType"
   ]
  },
  {
   "cell_type": "markdown",
   "id": "3632393f",
   "metadata": {},
   "source": [
    "## Connect to ArcGIS Online"
   ]
  },
  {
   "cell_type": "code",
   "execution_count": 3,
   "id": "b194a893",
   "metadata": {},
   "outputs": [],
   "source": [
    "gis = GIS()"
   ]
  },
  {
   "cell_type": "markdown",
   "id": "0e2890e2",
   "metadata": {},
   "source": [
    "## Create a map showing the city of Palm Springs"
   ]
  },
  {
   "cell_type": "code",
   "execution_count": 4,
   "id": "657372bb",
   "metadata": {},
   "outputs": [
    {
     "data": {
      "application/vnd.jupyter.widget-view+json": {
       "model_id": "7ad04f3e391a471da9e63eb2628d346a",
       "version_major": 2,
       "version_minor": 0
      },
      "text/plain": [
       "MapView(layout=Layout(height='400px', width='100%'))"
      ]
     },
     "metadata": {},
     "output_type": "display_data"
    },
    {
     "data": {
      "text/html": [
       "<div class=\"map-static-img-preview-6fbbef68-70be-4a0b-ad14-0629f2d01830\"><img src=\"\"></img></div>"
      ],
      "text/plain": [
       "<IPython.core.display.HTML object>"
      ]
     },
     "metadata": {},
     "output_type": "display_data"
    },
    {
     "data": {
      "text/html": [
       "<div class=\"map-html-embed-preview-6fbbef68-70be-4a0b-ad14-0629f2d01830\"></div>"
      ],
      "text/plain": [
       "<IPython.core.display.HTML object>"
      ]
     },
     "metadata": {},
     "output_type": "display_data"
    }
   ],
   "source": [
    "palmsprings_map = gis.map('Palm Springs, United Staates', zoomlevel=13)\n",
    "palmsprings_map"
   ]
  },
  {
   "cell_type": "markdown",
   "id": "23c6f188",
   "metadata": {},
   "source": [
    "## Connect to geourban services\n",
    "The host parameter must target the specific host like \"geoprotests.p.rapidapi.com\". Furthermore, the factory directly access `os.environ['x_rapidapi_key']` and uses the specified API key as a header parameter. Otherwise, `georapid.factory.EnvironmentClientFactory.create_client_with_host()` will raise a `ValueError`.\n",
    "\n",
    "Please, check out the [RapidAPI Account Creation and Management Guide](https://docs.rapidapi.com/docs/account-creation-and-settings)."
   ]
  },
  {
   "cell_type": "code",
   "execution_count": 5,
   "id": "0834b3fc",
   "metadata": {},
   "outputs": [],
   "source": [
    "client = EnvironmentClientFactory.create_client_with_host('geourban.p.rapidapi.com')"
   ]
  },
  {
   "cell_type": "markdown",
   "id": "b838fd38",
   "metadata": {},
   "source": [
    "## List the available simulations"
   ]
  },
  {
   "cell_type": "code",
   "execution_count": 6,
   "id": "0809dab7",
   "metadata": {},
   "outputs": [
    {
     "data": {
      "text/plain": [
       "[{'region': 'DEA2D', 'name': 'Aachen, Stadt', 'date': '2023-12-10'},\n",
       " {'region': 'USQ27768421',\n",
       "  'name': 'Allegiant Stadium, Las Vegas',\n",
       "  'date': '2024-02-11'},\n",
       " {'region': 'DE246', 'name': 'Bayreuth, Landkreis', 'date': '2023-12-28'},\n",
       " {'region': 'DE300', 'name': 'Berlin', 'date': '2023-08-25'},\n",
       " {'region': 'DEA22', 'name': 'Bonn, Kreisfreie Stadt', 'date': '2023-08-24'},\n",
       " {'region': 'DEE01', 'name': 'Dessau-Roßlau, Stadt', 'date': '2023-08-24'},\n",
       " {'region': 'DED21', 'name': 'Dresden, Stadt', 'date': '2023-12-10'},\n",
       " {'region': 'DEA12',\n",
       "  'name': 'Duisburg, Kreisfreie Stadt',\n",
       "  'date': '2023-12-22'},\n",
       " {'region': 'DE113', 'name': 'Esslingen, Landkreis', 'date': '2023-12-19'},\n",
       " {'region': 'ITI14', 'name': 'Firenze', 'date': '2024-01-07'},\n",
       " {'region': 'DE712',\n",
       "  'name': 'Frankfurt am Main, Kreisfreie Stadt',\n",
       "  'date': '2023-11-21'},\n",
       " {'region': 'DE929', 'name': 'Hannover, Region', 'date': '2023-11-09'},\n",
       " {'region': 'DE115', 'name': 'Ludwigsburg, Landkreis', 'date': '2023-12-18'},\n",
       " {'region': 'DEE0A', 'name': 'Mansfeld-Südharz', 'date': '2024-01-05'},\n",
       " {'region': 'DEA1C', 'name': 'Mettmann, Kreis', 'date': '2023-12-27'},\n",
       " {'region': 'DED43', 'name': 'Mittelsachsen', 'date': '2023-12-28'},\n",
       " {'region': 'DE212',\n",
       "  'name': 'München, Landeshauptstadt, Kreisfreie Stadt',\n",
       "  'date': '2023-11-01'},\n",
       " {'region': 'ITH36', 'name': 'Padova', 'date': '2024-02-04'},\n",
       " {'region': 'USQ115930',\n",
       "  'name': 'Palm Springs Convention Center',\n",
       "  'date': '2024-03-07'},\n",
       " {'region': 'DE228', 'name': 'Passau, Landkreis', 'date': '2023-12-28'},\n",
       " {'region': 'DEA27', 'name': 'Rhein-Erft-Kreis', 'date': '2024-01-08'},\n",
       " {'region': 'DEA2C', 'name': 'Rhein-Sieg-Kreis', 'date': '2023-12-09'},\n",
       " {'region': 'DE229', 'name': 'Schwandorf, Landkreis', 'date': '2023-12-28'},\n",
       " {'region': 'DE111',\n",
       "  'name': 'Stuttgart, Landeshauptstadt, Kreisfreie Stadt',\n",
       "  'date': '2023-11-25'},\n",
       " {'region': 'USQ7806370',\n",
       "  'name': 'Walter E. Washington Convention Center',\n",
       "  'date': '2024-02-17'}]"
      ]
     },
     "execution_count": 6,
     "metadata": {},
     "output_type": "execute_result"
    }
   ],
   "source": [
    "urban_simulations = simulations(client)\n",
    "urban_simulations"
   ]
  },
  {
   "cell_type": "code",
   "execution_count": null,
   "id": "0e471723",
   "metadata": {},
   "outputs": [],
   "source": [
    "palmsprings_region_code = 'USQ115930'"
   ]
  }
 ],
 "metadata": {
  "kernelspec": {
   "display_name": "Python 3 (ipykernel)",
   "language": "python",
   "name": "python3"
  },
  "language_info": {
   "codemirror_mode": {
    "name": "ipython",
    "version": 3
   },
   "file_extension": ".py",
   "mimetype": "text/x-python",
   "name": "python",
   "nbconvert_exporter": "python",
   "pygments_lexer": "ipython3",
   "version": "3.9.15"
  }
 },
 "nbformat": 4,
 "nbformat_minor": 5
}
