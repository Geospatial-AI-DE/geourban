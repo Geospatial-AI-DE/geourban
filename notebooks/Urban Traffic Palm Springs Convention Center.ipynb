{
 "cells": [
  {
   "cell_type": "markdown",
   "id": "297c3200",
   "metadata": {},
   "source": [
    "# Urban Traffic Palm Springs Convention Center\n",
    "Simulate the urban traffic from the city of Palm Springs nearby the Convention Center where the Esri Developer Summit takes place using [ArcGIS API for Python](https://developers.arcgis.com/python/)."
   ]
  },
  {
   "cell_type": "code",
   "execution_count": 1,
   "id": "f1ec33ee",
   "metadata": {},
   "outputs": [],
   "source": [
    "# author: Jan Tschada\n",
    "# SPDX-License-Identifer: Apache-2.0"
   ]
  },
  {
   "cell_type": "markdown",
   "id": "9603e0f4",
   "metadata": {},
   "source": [
    "## Required Python Modules\n",
    "You need to install ArcGIS API for Python, please follow the [guide](https://developers.arcgis.com/python/guide/anaconda/)."
   ]
  },
  {
   "cell_type": "code",
   "execution_count": 2,
   "id": "7d2602aa",
   "metadata": {},
   "outputs": [],
   "source": [
    "from arcgis.gis import GIS\n",
    "from arcgis.features import FeatureSet\n",
    "from datetime import date, datetime, timedelta\n",
    "from georapid.client import GeoRapidClient\n",
    "from georapid.factory import EnvironmentClientFactory\n",
    "from geourban.services import aggregate, query, simulations, top\n",
    "from geourban.types import GridType, VehicleType"
   ]
  },
  {
   "cell_type": "markdown",
   "id": "e336cf86",
   "metadata": {},
   "source": [
    "## Connect to ArcGIS Online"
   ]
  },
  {
   "cell_type": "code",
   "execution_count": 3,
   "id": "41cdb28f",
   "metadata": {},
   "outputs": [],
   "source": [
    "gis = GIS()"
   ]
  },
  {
   "cell_type": "markdown",
   "id": "8a76a1e9",
   "metadata": {},
   "source": [
    "## Create a map showing the city of Palm Springs"
   ]
  },
  {
   "cell_type": "code",
   "execution_count": 4,
   "id": "47219cee",
   "metadata": {},
   "outputs": [
    {
     "data": {
      "application/vnd.jupyter.widget-view+json": {
       "model_id": "7ad04f3e391a471da9e63eb2628d346a",
       "version_major": 2,
       "version_minor": 0
      },
      "text/plain": [
       "MapView(layout=Layout(height='400px', width='100%'))"
      ]
     },
     "metadata": {},
     "output_type": "display_data"
    },
    {
     "data": {
      "text/html": [
       "<div class=\"map-static-img-preview-6fbbef68-70be-4a0b-ad14-0629f2d01830\"><img src=\"\"></img></div>"
      ],
      "text/plain": [
       "<IPython.core.display.HTML object>"
      ]
     },
     "metadata": {},
     "output_type": "display_data"
    },
    {
     "data": {
      "text/html": [
       "<div class=\"map-html-embed-preview-6fbbef68-70be-4a0b-ad14-0629f2d01830\"></div>"
      ],
      "text/plain": [
       "<IPython.core.display.HTML object>"
      ]
     },
     "metadata": {},
     "output_type": "display_data"
    }
   ],
   "source": [
    "palmsprings_map = gis.map('Palm Springs, United Staates', zoomlevel=13)\n",
    "palmsprings_map"
   ]
  },
  {
   "cell_type": "markdown",
   "id": "877a46fa",
   "metadata": {},
   "source": [
    "## Connect to geourban services\n",
    "The host parameter must target the specific host like \"geoprotests.p.rapidapi.com\". Furthermore, the factory directly access `os.environ['x_rapidapi_key']` and uses the specified API key as a header parameter. Otherwise, `georapid.factory.EnvironmentClientFactory.create_client_with_host()` will raise a `ValueError`.\n",
    "\n",
    "Please, check out the [RapidAPI Account Creation and Management Guide](https://docs.rapidapi.com/docs/account-creation-and-settings)."
   ]
  },
  {
   "cell_type": "code",
   "execution_count": 5,
   "id": "82ccc719",
   "metadata": {},
   "outputs": [],
   "source": [
    "client = EnvironmentClientFactory.create_client_with_host('geourban.p.rapidapi.com')"
   ]
  },
  {
   "cell_type": "markdown",
   "id": "2364dd68",
   "metadata": {},
   "source": [
    "## List the available simulations"
   ]
  },
  {
   "cell_type": "code",
   "execution_count": 6,
   "id": "e85c42d1",
   "metadata": {},
   "outputs": [
    {
     "data": {
      "text/plain": [
       "[{'region': 'DEA2D', 'name': 'Aachen, Stadt', 'date': '2023-12-10'},\n",
       " {'region': 'USQ27768421',\n",
       "  'name': 'Allegiant Stadium, Las Vegas',\n",
       "  'date': '2024-02-11'},\n",
       " {'region': 'DE246', 'name': 'Bayreuth, Landkreis', 'date': '2023-12-28'},\n",
       " {'region': 'DE300', 'name': 'Berlin', 'date': '2023-08-25'},\n",
       " {'region': 'DEA22', 'name': 'Bonn, Kreisfreie Stadt', 'date': '2023-08-24'},\n",
       " {'region': 'DEE01', 'name': 'Dessau-Roßlau, Stadt', 'date': '2023-08-24'},\n",
       " {'region': 'DED21', 'name': 'Dresden, Stadt', 'date': '2023-12-10'},\n",
       " {'region': 'DEA12',\n",
       "  'name': 'Duisburg, Kreisfreie Stadt',\n",
       "  'date': '2023-12-22'},\n",
       " {'region': 'DE113', 'name': 'Esslingen, Landkreis', 'date': '2023-12-19'},\n",
       " {'region': 'ITI14', 'name': 'Firenze', 'date': '2024-01-07'},\n",
       " {'region': 'DE712',\n",
       "  'name': 'Frankfurt am Main, Kreisfreie Stadt',\n",
       "  'date': '2023-11-21'},\n",
       " {'region': 'DE929', 'name': 'Hannover, Region', 'date': '2023-11-09'},\n",
       " {'region': 'DE115', 'name': 'Ludwigsburg, Landkreis', 'date': '2023-12-18'},\n",
       " {'region': 'DEE0A', 'name': 'Mansfeld-Südharz', 'date': '2024-01-05'},\n",
       " {'region': 'DEA1C', 'name': 'Mettmann, Kreis', 'date': '2023-12-27'},\n",
       " {'region': 'DED43', 'name': 'Mittelsachsen', 'date': '2023-12-28'},\n",
       " {'region': 'DE212',\n",
       "  'name': 'München, Landeshauptstadt, Kreisfreie Stadt',\n",
       "  'date': '2023-11-01'},\n",
       " {'region': 'ITH36', 'name': 'Padova', 'date': '2024-02-04'},\n",
       " {'region': 'USQ115930',\n",
       "  'name': 'Palm Springs Convention Center',\n",
       "  'date': '2024-03-07'},\n",
       " {'region': 'DE228', 'name': 'Passau, Landkreis', 'date': '2023-12-28'},\n",
       " {'region': 'DEA27', 'name': 'Rhein-Erft-Kreis', 'date': '2024-01-08'},\n",
       " {'region': 'DEA2C', 'name': 'Rhein-Sieg-Kreis', 'date': '2023-12-09'},\n",
       " {'region': 'DE229', 'name': 'Schwandorf, Landkreis', 'date': '2023-12-28'},\n",
       " {'region': 'DE111',\n",
       "  'name': 'Stuttgart, Landeshauptstadt, Kreisfreie Stadt',\n",
       "  'date': '2023-11-25'},\n",
       " {'region': 'USQ7806370',\n",
       "  'name': 'Walter E. Washington Convention Center',\n",
       "  'date': '2024-02-17'}]"
      ]
     },
     "execution_count": 6,
     "metadata": {},
     "output_type": "execute_result"
    }
   ],
   "source": [
    "urban_simulations = simulations(client)\n",
    "urban_simulations"
   ]
  },
  {
   "cell_type": "markdown",
   "id": "1e57e6bb",
   "metadata": {},
   "source": [
    "## Request the top 5 accumulated car traffic grid cells\n",
    "We request these hotspots for the city of Palm Springs by using the urban region code `USQ115930`, the simulation date `2024-03-07`, the vehicle type `Car`, and the grid type `agent`. The returned GeoJSON features represents the grid cells with the highest car throughput."
   ]
  },
  {
   "cell_type": "code",
   "execution_count": 7,
   "id": "bd50d1dd",
   "metadata": {},
   "outputs": [
    {
     "data": {
      "text/plain": [
       "{'type': 'FeatureCollection',\n",
       " 'features': [{'type': 'Feature',\n",
       "   'geometry': {'type': 'Polygon',\n",
       "    'coordinates': [[[-116.53556, 33.8277],\n",
       "      [-116.53427, 33.8277],\n",
       "      [-116.53362, 33.82863],\n",
       "      [-116.53427, 33.82957],\n",
       "      [-116.53556, 33.82957],\n",
       "      [-116.53621, 33.82863],\n",
       "      [-116.53556, 33.8277]]]},\n",
       "   'properties': {'start_time': '2024-03-07T18:00:00',\n",
       "    'end_time': '2024-03-07T18:59:59',\n",
       "    'agent_count': 341}},\n",
       "  {'type': 'Feature',\n",
       "   'geometry': {'type': 'Polygon',\n",
       "    'coordinates': [[[-116.53751, 33.82863],\n",
       "      [-116.53621, 33.82863],\n",
       "      [-116.53556, 33.82957],\n",
       "      [-116.53621, 33.8305],\n",
       "      [-116.53751, 33.8305],\n",
       "      [-116.53816, 33.82957],\n",
       "      [-116.53751, 33.82863]]]},\n",
       "   'properties': {'start_time': '2024-03-07T18:00:00',\n",
       "    'end_time': '2024-03-07T18:59:59',\n",
       "    'agent_count': 329}},\n",
       "  {'type': 'Feature',\n",
       "   'geometry': {'type': 'Polygon',\n",
       "    'coordinates': [[[-116.49667, 33.8221],\n",
       "      [-116.49537, 33.8221],\n",
       "      [-116.49472, 33.82304],\n",
       "      [-116.49537, 33.82397],\n",
       "      [-116.49667, 33.82397],\n",
       "      [-116.49731, 33.82304],\n",
       "      [-116.49667, 33.8221]]]},\n",
       "   'properties': {'start_time': '2024-03-07T07:00:00',\n",
       "    'end_time': '2024-03-07T07:59:59',\n",
       "    'agent_count': 295}},\n",
       "  {'type': 'Feature',\n",
       "   'geometry': {'type': 'Polygon',\n",
       "    'coordinates': [[[-116.49472, 33.82117],\n",
       "      [-116.49342, 33.82117],\n",
       "      [-116.49278, 33.8221],\n",
       "      [-116.49342, 33.82304],\n",
       "      [-116.49472, 33.82304],\n",
       "      [-116.49537, 33.8221],\n",
       "      [-116.49472, 33.82117]]]},\n",
       "   'properties': {'start_time': '2024-03-07T07:00:00',\n",
       "    'end_time': '2024-03-07T07:59:59',\n",
       "    'agent_count': 295}},\n",
       "  {'type': 'Feature',\n",
       "   'geometry': {'type': 'Polygon',\n",
       "    'coordinates': [[[-116.49472, 33.81931],\n",
       "      [-116.49342, 33.81931],\n",
       "      [-116.49278, 33.82024],\n",
       "      [-116.49342, 33.82117],\n",
       "      [-116.49472, 33.82117],\n",
       "      [-116.49537, 33.82024],\n",
       "      [-116.49472, 33.81931]]]},\n",
       "   'properties': {'start_time': '2024-03-07T07:00:00',\n",
       "    'end_time': '2024-03-07T07:59:59',\n",
       "    'agent_count': 295}}]}"
      ]
     },
     "execution_count": 7,
     "metadata": {},
     "output_type": "execute_result"
    }
   ],
   "source": [
    "palmsprings_region_code = 'USQ115930'\n",
    "simulation_date = date(2024, 3, 7)\n",
    "vehicle_type = VehicleType.CAR\n",
    "grid_type = GridType.AGENT\n",
    "limit = 5\n",
    "top_traffic_grid_cells = top(client, palmsprings_region_code, simulation_date, vehicle_type, grid_type, limit=limit)\n",
    "top_traffic_grid_cells"
   ]
  },
  {
   "cell_type": "markdown",
   "id": "da46781f",
   "metadata": {},
   "source": [
    "## Convert the returned GeoJSON result into a FeatureSet\n",
    "The FeatureSet offers direct access to a spatially enabled dataframe. We can easily inspect the time frames (`start_time` - `end_time`) and the number of car vehicles `agent_count`.\n",
    "\n",
    "We see that the highest car throughput is before and after the conference event, e.g. between `07:00:00 - 07:59:59` and `18:00:00 - 18:59:59`."
   ]
  },
  {
   "cell_type": "code",
   "execution_count": 8,
   "id": "794c83bb",
   "metadata": {},
   "outputs": [
    {
     "data": {
      "text/html": [
       "<div>\n",
       "<style scoped>\n",
       "    .dataframe tbody tr th:only-of-type {\n",
       "        vertical-align: middle;\n",
       "    }\n",
       "\n",
       "    .dataframe tbody tr th {\n",
       "        vertical-align: top;\n",
       "    }\n",
       "\n",
       "    .dataframe thead th {\n",
       "        text-align: right;\n",
       "    }\n",
       "</style>\n",
       "<table border=\"1\" class=\"dataframe\">\n",
       "  <thead>\n",
       "    <tr style=\"text-align: right;\">\n",
       "      <th></th>\n",
       "      <th>start_time</th>\n",
       "      <th>end_time</th>\n",
       "      <th>agent_count</th>\n",
       "      <th>OBJECTID</th>\n",
       "      <th>SHAPE</th>\n",
       "    </tr>\n",
       "  </thead>\n",
       "  <tbody>\n",
       "    <tr>\n",
       "      <th>0</th>\n",
       "      <td>2024-03-07T18:00:00</td>\n",
       "      <td>2024-03-07T18:59:59</td>\n",
       "      <td>341</td>\n",
       "      <td>1</td>\n",
       "      <td>{\"rings\": [[[-116.53556, 33.8277], [-116.53427...</td>\n",
       "    </tr>\n",
       "    <tr>\n",
       "      <th>1</th>\n",
       "      <td>2024-03-07T18:00:00</td>\n",
       "      <td>2024-03-07T18:59:59</td>\n",
       "      <td>329</td>\n",
       "      <td>2</td>\n",
       "      <td>{\"rings\": [[[-116.53751, 33.82863], [-116.5362...</td>\n",
       "    </tr>\n",
       "    <tr>\n",
       "      <th>2</th>\n",
       "      <td>2024-03-07T07:00:00</td>\n",
       "      <td>2024-03-07T07:59:59</td>\n",
       "      <td>295</td>\n",
       "      <td>3</td>\n",
       "      <td>{\"rings\": [[[-116.49667, 33.8221], [-116.49537...</td>\n",
       "    </tr>\n",
       "    <tr>\n",
       "      <th>3</th>\n",
       "      <td>2024-03-07T07:00:00</td>\n",
       "      <td>2024-03-07T07:59:59</td>\n",
       "      <td>295</td>\n",
       "      <td>4</td>\n",
       "      <td>{\"rings\": [[[-116.49472, 33.82117], [-116.4934...</td>\n",
       "    </tr>\n",
       "    <tr>\n",
       "      <th>4</th>\n",
       "      <td>2024-03-07T07:00:00</td>\n",
       "      <td>2024-03-07T07:59:59</td>\n",
       "      <td>295</td>\n",
       "      <td>5</td>\n",
       "      <td>{\"rings\": [[[-116.49472, 33.81931], [-116.4934...</td>\n",
       "    </tr>\n",
       "  </tbody>\n",
       "</table>\n",
       "</div>"
      ],
      "text/plain": [
       "            start_time             end_time agent_count  OBJECTID  \\\n",
       "0  2024-03-07T18:00:00  2024-03-07T18:59:59         341         1   \n",
       "1  2024-03-07T18:00:00  2024-03-07T18:59:59         329         2   \n",
       "2  2024-03-07T07:00:00  2024-03-07T07:59:59         295         3   \n",
       "3  2024-03-07T07:00:00  2024-03-07T07:59:59         295         4   \n",
       "4  2024-03-07T07:00:00  2024-03-07T07:59:59         295         5   \n",
       "\n",
       "                                               SHAPE  \n",
       "0  {\"rings\": [[[-116.53556, 33.8277], [-116.53427...  \n",
       "1  {\"rings\": [[[-116.53751, 33.82863], [-116.5362...  \n",
       "2  {\"rings\": [[[-116.49667, 33.8221], [-116.49537...  \n",
       "3  {\"rings\": [[[-116.49472, 33.82117], [-116.4934...  \n",
       "4  {\"rings\": [[[-116.49472, 33.81931], [-116.4934...  "
      ]
     },
     "execution_count": 8,
     "metadata": {},
     "output_type": "execute_result"
    }
   ],
   "source": [
    "top_traffic_fset = FeatureSet.from_geojson(top_traffic_grid_cells)\n",
    "top_traffic_sdf = top_traffic_fset.sdf\n",
    "top_traffic_sdf"
   ]
  },
  {
   "cell_type": "markdown",
   "id": "f79e1c92",
   "metadata": {},
   "source": [
    "## Map the traffic grid cells"
   ]
  },
  {
   "cell_type": "code",
   "execution_count": 9,
   "id": "baad168a",
   "metadata": {},
   "outputs": [
    {
     "data": {
      "application/vnd.jupyter.widget-view+json": {
       "model_id": "7ad04f3e391a471da9e63eb2628d346a",
       "version_major": 2,
       "version_minor": 0
      },
      "text/plain": [
       "MapView(jupyter_target='notebook', layout=Layout(height='400px', width='100%'), ready=True)"
      ]
     },
     "metadata": {},
     "output_type": "display_data"
    },
    {
     "data": {
      "text/html": [
       "<div class=\"map-static-img-preview-6fbbef68-70be-4a0b-ad14-0629f2d01830\"><img src=\"\"></img></div>"
      ],
      "text/plain": [
       "<IPython.core.display.HTML object>"
      ]
     },
     "metadata": {},
     "output_type": "display_data"
    },
    {
     "data": {
      "text/html": [
       "<div class=\"map-html-embed-preview-6fbbef68-70be-4a0b-ad14-0629f2d01830\"></div>"
      ],
      "text/plain": [
       "<IPython.core.display.HTML object>"
      ]
     },
     "metadata": {},
     "output_type": "display_data"
    }
   ],
   "source": [
    "top_traffic_sdf.spatial.plot(palmsprings_map, renderer_type='s', colors='#E80000', alpha=0.3)\n",
    "palmsprings_map"
   ]
  },
  {
   "cell_type": "markdown",
   "id": "abe0412e",
   "metadata": {},
   "source": [
    "# Query the simulated agents nearby\n",
    "We are using the center of the hotspots near the Palm Springs International Airport, request the simulated agents being within a distance of `250 meters`, and specify a `30 seconds` time window starting from `07:30:00`."
   ]
  },
  {
   "cell_type": "code",
   "execution_count": 99,
   "id": "fa9eec61",
   "metadata": {},
   "outputs": [
    {
     "data": {
      "text/html": [
       "<div>\n",
       "<style scoped>\n",
       "    .dataframe tbody tr th:only-of-type {\n",
       "        vertical-align: middle;\n",
       "    }\n",
       "\n",
       "    .dataframe tbody tr th {\n",
       "        vertical-align: top;\n",
       "    }\n",
       "\n",
       "    .dataframe thead th {\n",
       "        text-align: right;\n",
       "    }\n",
       "</style>\n",
       "<table border=\"1\" class=\"dataframe\">\n",
       "  <thead>\n",
       "    <tr style=\"text-align: right;\">\n",
       "      <th></th>\n",
       "      <th>trip</th>\n",
       "      <th>person</th>\n",
       "      <th>trip_time</th>\n",
       "      <th>OBJECTID</th>\n",
       "      <th>SHAPE</th>\n",
       "    </tr>\n",
       "  </thead>\n",
       "  <tbody>\n",
       "    <tr>\n",
       "      <th>0</th>\n",
       "      <td>408</td>\n",
       "      <td>255</td>\n",
       "      <td>2024-03-07T07:30:00</td>\n",
       "      <td>1</td>\n",
       "      <td>{\"x\": -116.49402, \"y\": 33.82092, \"spatialRefer...</td>\n",
       "    </tr>\n",
       "    <tr>\n",
       "      <th>1</th>\n",
       "      <td>2622</td>\n",
       "      <td>1605</td>\n",
       "      <td>2024-03-07T07:30:00</td>\n",
       "      <td>2</td>\n",
       "      <td>{\"x\": -116.49448, \"y\": 33.82179, \"spatialRefer...</td>\n",
       "    </tr>\n",
       "    <tr>\n",
       "      <th>2</th>\n",
       "      <td>3370</td>\n",
       "      <td>1894</td>\n",
       "      <td>2024-03-07T07:30:00</td>\n",
       "      <td>3</td>\n",
       "      <td>{\"x\": -116.49453, \"y\": 33.82188, \"spatialRefer...</td>\n",
       "    </tr>\n",
       "    <tr>\n",
       "      <th>3</th>\n",
       "      <td>3812</td>\n",
       "      <td>2058</td>\n",
       "      <td>2024-03-07T07:30:00</td>\n",
       "      <td>4</td>\n",
       "      <td>{\"x\": -116.49428, \"y\": 33.82145, \"spatialRefer...</td>\n",
       "    </tr>\n",
       "    <tr>\n",
       "      <th>4</th>\n",
       "      <td>3370</td>\n",
       "      <td>1894</td>\n",
       "      <td>2024-03-07T07:30:01</td>\n",
       "      <td>5</td>\n",
       "      <td>{\"x\": -116.49464, \"y\": 33.82206, \"spatialRefer...</td>\n",
       "    </tr>\n",
       "    <tr>\n",
       "      <th>...</th>\n",
       "      <td>...</td>\n",
       "      <td>...</td>\n",
       "      <td>...</td>\n",
       "      <td>...</td>\n",
       "      <td>...</td>\n",
       "    </tr>\n",
       "    <tr>\n",
       "      <th>73</th>\n",
       "      <td>1851</td>\n",
       "      <td>1161</td>\n",
       "      <td>2024-03-07T07:30:27</td>\n",
       "      <td>74</td>\n",
       "      <td>{\"x\": -116.49544, \"y\": 33.82288, \"spatialRefer...</td>\n",
       "    </tr>\n",
       "    <tr>\n",
       "      <th>74</th>\n",
       "      <td>5664</td>\n",
       "      <td>2825</td>\n",
       "      <td>2024-03-07T07:30:28</td>\n",
       "      <td>75</td>\n",
       "      <td>{\"x\": -116.49407, \"y\": 33.82103, \"spatialRefer...</td>\n",
       "    </tr>\n",
       "    <tr>\n",
       "      <th>75</th>\n",
       "      <td>1851</td>\n",
       "      <td>1161</td>\n",
       "      <td>2024-03-07T07:30:28</td>\n",
       "      <td>76</td>\n",
       "      <td>{\"x\": -116.49531, \"y\": 33.82271, \"spatialRefer...</td>\n",
       "    </tr>\n",
       "    <tr>\n",
       "      <th>76</th>\n",
       "      <td>5664</td>\n",
       "      <td>2825</td>\n",
       "      <td>2024-03-07T07:30:29</td>\n",
       "      <td>77</td>\n",
       "      <td>{\"x\": -116.49417, \"y\": 33.82122, \"spatialRefer...</td>\n",
       "    </tr>\n",
       "    <tr>\n",
       "      <th>77</th>\n",
       "      <td>1851</td>\n",
       "      <td>1161</td>\n",
       "      <td>2024-03-07T07:30:29</td>\n",
       "      <td>78</td>\n",
       "      <td>{\"x\": -116.49518, \"y\": 33.82254, \"spatialRefer...</td>\n",
       "    </tr>\n",
       "  </tbody>\n",
       "</table>\n",
       "<p>78 rows × 5 columns</p>\n",
       "</div>"
      ],
      "text/plain": [
       "    trip person            trip_time  OBJECTID  \\\n",
       "0    408    255  2024-03-07T07:30:00         1   \n",
       "1   2622   1605  2024-03-07T07:30:00         2   \n",
       "2   3370   1894  2024-03-07T07:30:00         3   \n",
       "3   3812   2058  2024-03-07T07:30:00         4   \n",
       "4   3370   1894  2024-03-07T07:30:01         5   \n",
       "..   ...    ...                  ...       ...   \n",
       "73  1851   1161  2024-03-07T07:30:27        74   \n",
       "74  5664   2825  2024-03-07T07:30:28        75   \n",
       "75  1851   1161  2024-03-07T07:30:28        76   \n",
       "76  5664   2825  2024-03-07T07:30:29        77   \n",
       "77  1851   1161  2024-03-07T07:30:29        78   \n",
       "\n",
       "                                                SHAPE  \n",
       "0   {\"x\": -116.49402, \"y\": 33.82092, \"spatialRefer...  \n",
       "1   {\"x\": -116.49448, \"y\": 33.82179, \"spatialRefer...  \n",
       "2   {\"x\": -116.49453, \"y\": 33.82188, \"spatialRefer...  \n",
       "3   {\"x\": -116.49428, \"y\": 33.82145, \"spatialRefer...  \n",
       "4   {\"x\": -116.49464, \"y\": 33.82206, \"spatialRefer...  \n",
       "..                                                ...  \n",
       "73  {\"x\": -116.49544, \"y\": 33.82288, \"spatialRefer...  \n",
       "74  {\"x\": -116.49407, \"y\": 33.82103, \"spatialRefer...  \n",
       "75  {\"x\": -116.49531, \"y\": 33.82271, \"spatialRefer...  \n",
       "76  {\"x\": -116.49417, \"y\": 33.82122, \"spatialRefer...  \n",
       "77  {\"x\": -116.49518, \"y\": 33.82254, \"spatialRefer...  \n",
       "\n",
       "[78 rows x 5 columns]"
      ]
     },
     "execution_count": 99,
     "metadata": {},
     "output_type": "execute_result"
    }
   ],
   "source": [
    "simulation_datetime = datetime.fromisoformat('2024-03-07T07:30:00')\n",
    "(latitude, longitude) = (33.822246, -116.494852)\n",
    "(seconds, meters) = (30, 250)\n",
    "car_positions = query(client, simulation_datetime, vehicle_type, latitude, longitude, seconds, meters)\n",
    "car_positions_fset = FeatureSet.from_geojson(car_positions)\n",
    "car_positions_sdf = car_positions_fset.sdf\n",
    "car_positions_sdf"
   ]
  },
  {
   "cell_type": "markdown",
   "id": "a65615f2",
   "metadata": {},
   "source": [
    "## Map the car positions nearby"
   ]
  },
  {
   "cell_type": "code",
   "execution_count": 107,
   "id": "2b68b8d7",
   "metadata": {},
   "outputs": [
    {
     "data": {
      "application/vnd.jupyter.widget-view+json": {
       "model_id": "e18147c32ed04258b89821bb4f3e3449",
       "version_major": 2,
       "version_minor": 0
      },
      "text/plain": [
       "MapView(layout=Layout(height='400px', width='100%'))"
      ]
     },
     "metadata": {},
     "output_type": "display_data"
    },
    {
     "data": {
      "text/html": [
       "<div class=\"map-static-img-preview-d196f84d-a60a-498c-a88c-dd4973dbbc89\"><img src=\"\"></img></div>"
      ],
      "text/plain": [
       "<IPython.core.display.HTML object>"
      ]
     },
     "metadata": {},
     "output_type": "display_data"
    },
    {
     "data": {
      "text/html": [
       "<div class=\"map-html-embed-preview-d196f84d-a60a-498c-a88c-dd4973dbbc89\"></div>"
      ],
      "text/plain": [
       "<IPython.core.display.HTML object>"
      ]
     },
     "metadata": {},
     "output_type": "display_data"
    }
   ],
   "source": [
    "palmsprings_map = gis.map('Palm Springs, United Staates', zoomlevel=13)\n",
    "palmsprings_map.zoom_to_layer(car_positions_sdf)\n",
    "car_positions_sdf.spatial.plot(palmsprings_map, renderer_type='s', colors='#E80000', marker_size=7, alpha=0.3)\n",
    "palmsprings_map"
   ]
  },
  {
   "cell_type": "markdown",
   "id": "8854ba05",
   "metadata": {},
   "source": [
    "## Do some data engineering\n",
    "We are interested in the movements of a specific agent and want to narrow down its movement behavior.\n",
    "The GeoJSON properties are treated as strings. So that we should convert the `trip` and `person` columns to `int32`. Furthermore, we convert the `trip_time` to `datetime`."
   ]
  },
  {
   "cell_type": "code",
   "execution_count": 12,
   "id": "f4b12abb",
   "metadata": {},
   "outputs": [],
   "source": [
    "import pandas as pd"
   ]
  },
  {
   "cell_type": "code",
   "execution_count": 106,
   "id": "439a6acc",
   "metadata": {},
   "outputs": [
    {
     "data": {
      "text/html": [
       "<div>\n",
       "<style scoped>\n",
       "    .dataframe tbody tr th:only-of-type {\n",
       "        vertical-align: middle;\n",
       "    }\n",
       "\n",
       "    .dataframe tbody tr th {\n",
       "        vertical-align: top;\n",
       "    }\n",
       "\n",
       "    .dataframe thead th {\n",
       "        text-align: right;\n",
       "    }\n",
       "</style>\n",
       "<table border=\"1\" class=\"dataframe\">\n",
       "  <thead>\n",
       "    <tr style=\"text-align: right;\">\n",
       "      <th></th>\n",
       "      <th>trip</th>\n",
       "      <th>person</th>\n",
       "      <th>trip_time</th>\n",
       "      <th>OBJECTID</th>\n",
       "      <th>SHAPE</th>\n",
       "    </tr>\n",
       "  </thead>\n",
       "  <tbody>\n",
       "    <tr>\n",
       "      <th>0</th>\n",
       "      <td>408</td>\n",
       "      <td>255</td>\n",
       "      <td>2024-03-07T07:30:00</td>\n",
       "      <td>1</td>\n",
       "      <td>{\"x\": -116.49402, \"y\": 33.82092, \"spatialRefer...</td>\n",
       "    </tr>\n",
       "    <tr>\n",
       "      <th>1</th>\n",
       "      <td>2622</td>\n",
       "      <td>1605</td>\n",
       "      <td>2024-03-07T07:30:00</td>\n",
       "      <td>2</td>\n",
       "      <td>{\"x\": -116.49448, \"y\": 33.82179, \"spatialRefer...</td>\n",
       "    </tr>\n",
       "    <tr>\n",
       "      <th>2</th>\n",
       "      <td>3370</td>\n",
       "      <td>1894</td>\n",
       "      <td>2024-03-07T07:30:00</td>\n",
       "      <td>3</td>\n",
       "      <td>{\"x\": -116.49453, \"y\": 33.82188, \"spatialRefer...</td>\n",
       "    </tr>\n",
       "    <tr>\n",
       "      <th>3</th>\n",
       "      <td>3812</td>\n",
       "      <td>2058</td>\n",
       "      <td>2024-03-07T07:30:00</td>\n",
       "      <td>4</td>\n",
       "      <td>{\"x\": -116.49428, \"y\": 33.82145, \"spatialRefer...</td>\n",
       "    </tr>\n",
       "    <tr>\n",
       "      <th>4</th>\n",
       "      <td>3370</td>\n",
       "      <td>1894</td>\n",
       "      <td>2024-03-07T07:30:01</td>\n",
       "      <td>5</td>\n",
       "      <td>{\"x\": -116.49464, \"y\": 33.82206, \"spatialRefer...</td>\n",
       "    </tr>\n",
       "    <tr>\n",
       "      <th>...</th>\n",
       "      <td>...</td>\n",
       "      <td>...</td>\n",
       "      <td>...</td>\n",
       "      <td>...</td>\n",
       "      <td>...</td>\n",
       "    </tr>\n",
       "    <tr>\n",
       "      <th>73</th>\n",
       "      <td>1851</td>\n",
       "      <td>1161</td>\n",
       "      <td>2024-03-07T07:30:27</td>\n",
       "      <td>74</td>\n",
       "      <td>{\"x\": -116.49544, \"y\": 33.82288, \"spatialRefer...</td>\n",
       "    </tr>\n",
       "    <tr>\n",
       "      <th>74</th>\n",
       "      <td>5664</td>\n",
       "      <td>2825</td>\n",
       "      <td>2024-03-07T07:30:28</td>\n",
       "      <td>75</td>\n",
       "      <td>{\"x\": -116.49407, \"y\": 33.82103, \"spatialRefer...</td>\n",
       "    </tr>\n",
       "    <tr>\n",
       "      <th>75</th>\n",
       "      <td>1851</td>\n",
       "      <td>1161</td>\n",
       "      <td>2024-03-07T07:30:28</td>\n",
       "      <td>76</td>\n",
       "      <td>{\"x\": -116.49531, \"y\": 33.82271, \"spatialRefer...</td>\n",
       "    </tr>\n",
       "    <tr>\n",
       "      <th>76</th>\n",
       "      <td>5664</td>\n",
       "      <td>2825</td>\n",
       "      <td>2024-03-07T07:30:29</td>\n",
       "      <td>77</td>\n",
       "      <td>{\"x\": -116.49417, \"y\": 33.82122, \"spatialRefer...</td>\n",
       "    </tr>\n",
       "    <tr>\n",
       "      <th>77</th>\n",
       "      <td>1851</td>\n",
       "      <td>1161</td>\n",
       "      <td>2024-03-07T07:30:29</td>\n",
       "      <td>78</td>\n",
       "      <td>{\"x\": -116.49518, \"y\": 33.82254, \"spatialRefer...</td>\n",
       "    </tr>\n",
       "  </tbody>\n",
       "</table>\n",
       "<p>78 rows × 5 columns</p>\n",
       "</div>"
      ],
      "text/plain": [
       "    trip  person            trip_time  OBJECTID  \\\n",
       "0    408     255  2024-03-07T07:30:00         1   \n",
       "1   2622    1605  2024-03-07T07:30:00         2   \n",
       "2   3370    1894  2024-03-07T07:30:00         3   \n",
       "3   3812    2058  2024-03-07T07:30:00         4   \n",
       "4   3370    1894  2024-03-07T07:30:01         5   \n",
       "..   ...     ...                  ...       ...   \n",
       "73  1851    1161  2024-03-07T07:30:27        74   \n",
       "74  5664    2825  2024-03-07T07:30:28        75   \n",
       "75  1851    1161  2024-03-07T07:30:28        76   \n",
       "76  5664    2825  2024-03-07T07:30:29        77   \n",
       "77  1851    1161  2024-03-07T07:30:29        78   \n",
       "\n",
       "                                                SHAPE  \n",
       "0   {\"x\": -116.49402, \"y\": 33.82092, \"spatialRefer...  \n",
       "1   {\"x\": -116.49448, \"y\": 33.82179, \"spatialRefer...  \n",
       "2   {\"x\": -116.49453, \"y\": 33.82188, \"spatialRefer...  \n",
       "3   {\"x\": -116.49428, \"y\": 33.82145, \"spatialRefer...  \n",
       "4   {\"x\": -116.49464, \"y\": 33.82206, \"spatialRefer...  \n",
       "..                                                ...  \n",
       "73  {\"x\": -116.49544, \"y\": 33.82288, \"spatialRefer...  \n",
       "74  {\"x\": -116.49407, \"y\": 33.82103, \"spatialRefer...  \n",
       "75  {\"x\": -116.49531, \"y\": 33.82271, \"spatialRefer...  \n",
       "76  {\"x\": -116.49417, \"y\": 33.82122, \"spatialRefer...  \n",
       "77  {\"x\": -116.49518, \"y\": 33.82254, \"spatialRefer...  \n",
       "\n",
       "[78 rows x 5 columns]"
      ]
     },
     "execution_count": 106,
     "metadata": {},
     "output_type": "execute_result"
    }
   ],
   "source": [
    "car_positions_sdf = car_positions_sdf.astype({'trip':'int32', 'person':'int32'}) \n",
    "car_positions_sdf[['trip_time']] = car_positions_sdf[['trip_time']].apply(pd.to_datetime)\n",
    "car_positions_sdf"
   ]
  },
  {
   "cell_type": "code",
   "execution_count": 108,
   "id": "e46b0570",
   "metadata": {},
   "outputs": [
    {
     "data": {
      "text/html": [
       "<div>\n",
       "<style scoped>\n",
       "    .dataframe tbody tr th:only-of-type {\n",
       "        vertical-align: middle;\n",
       "    }\n",
       "\n",
       "    .dataframe tbody tr th {\n",
       "        vertical-align: top;\n",
       "    }\n",
       "\n",
       "    .dataframe thead th {\n",
       "        text-align: right;\n",
       "    }\n",
       "</style>\n",
       "<table border=\"1\" class=\"dataframe\">\n",
       "  <thead>\n",
       "    <tr style=\"text-align: right;\">\n",
       "      <th></th>\n",
       "      <th>trip</th>\n",
       "      <th>person</th>\n",
       "      <th>trip_time</th>\n",
       "      <th>OBJECTID</th>\n",
       "      <th>SHAPE</th>\n",
       "    </tr>\n",
       "  </thead>\n",
       "  <tbody>\n",
       "    <tr>\n",
       "      <th>64</th>\n",
       "      <td>1851</td>\n",
       "      <td>1161</td>\n",
       "      <td>2024-03-07T07:30:20</td>\n",
       "      <td>65</td>\n",
       "      <td>{\"x\": -116.49639, \"y\": 33.82404, \"spatialRefer...</td>\n",
       "    </tr>\n",
       "    <tr>\n",
       "      <th>67</th>\n",
       "      <td>1851</td>\n",
       "      <td>1161</td>\n",
       "      <td>2024-03-07T07:30:21</td>\n",
       "      <td>68</td>\n",
       "      <td>{\"x\": -116.49625, \"y\": 33.82388, \"spatialRefer...</td>\n",
       "    </tr>\n",
       "    <tr>\n",
       "      <th>68</th>\n",
       "      <td>1851</td>\n",
       "      <td>1161</td>\n",
       "      <td>2024-03-07T07:30:22</td>\n",
       "      <td>69</td>\n",
       "      <td>{\"x\": -116.4961, \"y\": 33.82372, \"spatialRefere...</td>\n",
       "    </tr>\n",
       "    <tr>\n",
       "      <th>69</th>\n",
       "      <td>1851</td>\n",
       "      <td>1161</td>\n",
       "      <td>2024-03-07T07:30:23</td>\n",
       "      <td>70</td>\n",
       "      <td>{\"x\": -116.49596, \"y\": 33.82356, \"spatialRefer...</td>\n",
       "    </tr>\n",
       "    <tr>\n",
       "      <th>70</th>\n",
       "      <td>1851</td>\n",
       "      <td>1161</td>\n",
       "      <td>2024-03-07T07:30:24</td>\n",
       "      <td>71</td>\n",
       "      <td>{\"x\": -116.49583, \"y\": 33.82339, \"spatialRefer...</td>\n",
       "    </tr>\n",
       "    <tr>\n",
       "      <th>71</th>\n",
       "      <td>1851</td>\n",
       "      <td>1161</td>\n",
       "      <td>2024-03-07T07:30:25</td>\n",
       "      <td>72</td>\n",
       "      <td>{\"x\": -116.4957, \"y\": 33.82322, \"spatialRefere...</td>\n",
       "    </tr>\n",
       "    <tr>\n",
       "      <th>72</th>\n",
       "      <td>1851</td>\n",
       "      <td>1161</td>\n",
       "      <td>2024-03-07T07:30:26</td>\n",
       "      <td>73</td>\n",
       "      <td>{\"x\": -116.49557, \"y\": 33.82305, \"spatialRefer...</td>\n",
       "    </tr>\n",
       "    <tr>\n",
       "      <th>73</th>\n",
       "      <td>1851</td>\n",
       "      <td>1161</td>\n",
       "      <td>2024-03-07T07:30:27</td>\n",
       "      <td>74</td>\n",
       "      <td>{\"x\": -116.49544, \"y\": 33.82288, \"spatialRefer...</td>\n",
       "    </tr>\n",
       "    <tr>\n",
       "      <th>75</th>\n",
       "      <td>1851</td>\n",
       "      <td>1161</td>\n",
       "      <td>2024-03-07T07:30:28</td>\n",
       "      <td>76</td>\n",
       "      <td>{\"x\": -116.49531, \"y\": 33.82271, \"spatialRefer...</td>\n",
       "    </tr>\n",
       "    <tr>\n",
       "      <th>77</th>\n",
       "      <td>1851</td>\n",
       "      <td>1161</td>\n",
       "      <td>2024-03-07T07:30:29</td>\n",
       "      <td>78</td>\n",
       "      <td>{\"x\": -116.49518, \"y\": 33.82254, \"spatialRefer...</td>\n",
       "    </tr>\n",
       "  </tbody>\n",
       "</table>\n",
       "</div>"
      ],
      "text/plain": [
       "    trip  person            trip_time  OBJECTID  \\\n",
       "64  1851    1161  2024-03-07T07:30:20        65   \n",
       "67  1851    1161  2024-03-07T07:30:21        68   \n",
       "68  1851    1161  2024-03-07T07:30:22        69   \n",
       "69  1851    1161  2024-03-07T07:30:23        70   \n",
       "70  1851    1161  2024-03-07T07:30:24        71   \n",
       "71  1851    1161  2024-03-07T07:30:25        72   \n",
       "72  1851    1161  2024-03-07T07:30:26        73   \n",
       "73  1851    1161  2024-03-07T07:30:27        74   \n",
       "75  1851    1161  2024-03-07T07:30:28        76   \n",
       "77  1851    1161  2024-03-07T07:30:29        78   \n",
       "\n",
       "                                                SHAPE  \n",
       "64  {\"x\": -116.49639, \"y\": 33.82404, \"spatialRefer...  \n",
       "67  {\"x\": -116.49625, \"y\": 33.82388, \"spatialRefer...  \n",
       "68  {\"x\": -116.4961, \"y\": 33.82372, \"spatialRefere...  \n",
       "69  {\"x\": -116.49596, \"y\": 33.82356, \"spatialRefer...  \n",
       "70  {\"x\": -116.49583, \"y\": 33.82339, \"spatialRefer...  \n",
       "71  {\"x\": -116.4957, \"y\": 33.82322, \"spatialRefere...  \n",
       "72  {\"x\": -116.49557, \"y\": 33.82305, \"spatialRefer...  \n",
       "73  {\"x\": -116.49544, \"y\": 33.82288, \"spatialRefer...  \n",
       "75  {\"x\": -116.49531, \"y\": 33.82271, \"spatialRefer...  \n",
       "77  {\"x\": -116.49518, \"y\": 33.82254, \"spatialRefer...  "
      ]
     },
     "execution_count": 108,
     "metadata": {},
     "output_type": "execute_result"
    }
   ],
   "source": [
    "person_1161_positions_sdf = car_positions_sdf[car_positions_sdf['person']==1161]\n",
    "person_1161_positions_sdf"
   ]
  },
  {
   "cell_type": "markdown",
   "id": "fb84a69b",
   "metadata": {},
   "source": [
    "## Map the car positions of one specific agent"
   ]
  },
  {
   "cell_type": "code",
   "execution_count": 109,
   "id": "29dab87e",
   "metadata": {},
   "outputs": [
    {
     "data": {
      "application/vnd.jupyter.widget-view+json": {
       "model_id": "5a71871b8709464bb64f4161f76ec0f4",
       "version_major": 2,
       "version_minor": 0
      },
      "text/plain": [
       "MapView(layout=Layout(height='400px', width='100%'))"
      ]
     },
     "metadata": {},
     "output_type": "display_data"
    },
    {
     "data": {
      "text/html": [
       "<div class=\"map-static-img-preview-f77ce067-d033-4e34-921e-2d0557a6cc20\"><img src=\"\"></img></div>"
      ],
      "text/plain": [
       "<IPython.core.display.HTML object>"
      ]
     },
     "metadata": {},
     "output_type": "display_data"
    },
    {
     "data": {
      "text/html": [
       "<div class=\"map-html-embed-preview-f77ce067-d033-4e34-921e-2d0557a6cc20\"></div>"
      ],
      "text/plain": [
       "<IPython.core.display.HTML object>"
      ]
     },
     "metadata": {},
     "output_type": "display_data"
    }
   ],
   "source": [
    "palmsprings_map = gis.map('Palm Springs, United Staates', zoomlevel=13)\n",
    "palmsprings_map.zoom_to_layer(person_1161_positions_sdf)\n",
    "person_1161_positions_sdf.spatial.plot(palmsprings_map, renderer_type='s', colors='#E80000', marker_size=7, alpha=0.3)\n",
    "palmsprings_map"
   ]
  },
  {
   "cell_type": "code",
   "execution_count": null,
   "id": "297788e9",
   "metadata": {},
   "outputs": [],
   "source": []
  }
 ],
 "metadata": {
  "kernelspec": {
   "display_name": "Python 3 (ipykernel)",
   "language": "python",
   "name": "python3"
  },
  "language_info": {
   "codemirror_mode": {
    "name": "ipython",
    "version": 3
   },
   "file_extension": ".py",
   "mimetype": "text/x-python",
   "name": "python",
   "nbconvert_exporter": "python",
   "pygments_lexer": "ipython3",
   "version": "3.9.15"
  }
 },
 "nbformat": 4,
 "nbformat_minor": 5
}
