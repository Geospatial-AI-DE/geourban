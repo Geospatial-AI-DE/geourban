{
 "cells": [
  {
   "cell_type": "markdown",
   "id": "876b7457",
   "metadata": {},
   "source": [
    "# Urban Traffic Palm Springs Convention Center\n",
    "Simulate the urban traffic from the city of Palm Springs nearby the Convention Center where the Esri Developer Summit takes place using [ArcGIS API for Python](https://developers.arcgis.com/python/)."
   ]
  },
  {
   "cell_type": "code",
   "execution_count": null,
   "id": "792905a7",
   "metadata": {},
   "outputs": [],
   "source": [
    "# author: Jan Tschada\n",
    "# SPDX-License-Identifer: Apache-2.0"
   ]
  },
  {
   "cell_type": "markdown",
   "id": "7a7c573a",
   "metadata": {},
   "source": [
    "## Required Python Modules\n",
    "You need to install ArcGIS API for Python, please follow the [guide](https://developers.arcgis.com/python/guide/anaconda/)."
   ]
  },
  {
   "cell_type": "code",
   "execution_count": null,
   "id": "bc511be4",
   "metadata": {},
   "outputs": [],
   "source": [
    "from arcgis.gis import GIS\n",
    "from arcgis.features import FeatureSet\n",
    "from datetime import date, datetime, timedelta\n",
    "from georapid.client import GeoRapidClient\n",
    "from georapid.factory import EnvironmentClientFactory\n",
    "from geourban.services import aggregate, query, simulations, top\n",
    "from geourban.types import GridType, VehicleType"
   ]
  },
  {
   "cell_type": "markdown",
   "id": "cc188554",
   "metadata": {},
   "source": [
    "## Connect to ArcGIS Online"
   ]
  },
  {
   "cell_type": "code",
   "execution_count": null,
   "id": "62742823",
   "metadata": {},
   "outputs": [],
   "source": [
    "gis = GIS()"
   ]
  },
  {
   "cell_type": "markdown",
   "id": "21847ed0",
   "metadata": {},
   "source": [
    "## Create a map showing the city of Palm Springs"
   ]
  },
  {
   "cell_type": "code",
   "execution_count": null,
   "id": "2ce1fc90",
   "metadata": {},
   "outputs": [],
   "source": [
    "palmsprings_map = gis.map('Palm Springs, United Staates', zoomlevel=13)\n",
    "palmsprings_map"
   ]
  },
  {
   "cell_type": "markdown",
   "id": "71eac236",
   "metadata": {},
   "source": [
    "## Connect to geourban services\n",
    "The host parameter must target the specific host like \"geoprotests.p.rapidapi.com\". Furthermore, the factory directly access `os.environ['x_rapidapi_key']` and uses the specified API key as a header parameter. Otherwise, `georapid.factory.EnvironmentClientFactory.create_client_with_host()` will raise a `ValueError`.\n",
    "\n",
    "Please, check out the [RapidAPI Account Creation and Management Guide](https://docs.rapidapi.com/docs/account-creation-and-settings)."
   ]
  },
  {
   "cell_type": "code",
   "execution_count": null,
   "id": "6a525e1c",
   "metadata": {},
   "outputs": [],
   "source": [
    "client = EnvironmentClientFactory.create_client_with_host('geourban.p.rapidapi.com')"
   ]
  },
  {
   "cell_type": "markdown",
   "id": "c8f4ee23",
   "metadata": {},
   "source": [
    "## List the available simulations"
   ]
  },
  {
   "cell_type": "code",
   "execution_count": null,
   "id": "f3208d55",
   "metadata": {},
   "outputs": [],
   "source": [
    "urban_simulations = simulations(client)\n",
    "urban_simulations"
   ]
  },
  {
   "cell_type": "markdown",
   "id": "3a8bc0af",
   "metadata": {},
   "source": [
    "## Request the top 5 accumulated car traffic grid cells\n",
    "We request these hotspots for the city of Palm Springs by using the urban region code `USQ115930`, the simulation date `2024-03-07`, the vehicle type `Car`, and the grid type `agent`. The returned GeoJSON features represents the grid cells with the highest car throughput."
   ]
  },
  {
   "cell_type": "code",
   "execution_count": null,
   "id": "ab3d65cc",
   "metadata": {},
   "outputs": [],
   "source": [
    "palmsprings_region_code = 'USQ115930'\n",
    "simulation_date = date(2024, 3, 7)\n",
    "vehicle_type = VehicleType.CAR\n",
    "grid_type = GridType.AGENT\n",
    "limit = 5\n",
    "top_traffic_grid_cells = top(client, palmsprings_region_code, simulation_date, vehicle_type, grid_type, limit=limit)\n",
    "top_traffic_grid_cells"
   ]
  },
  {
   "cell_type": "markdown",
   "id": "cf9e7c92",
   "metadata": {},
   "source": [
    "## Convert the returned GeoJSON result into a FeatureSet\n",
    "The FeatureSet offers direct access to a spatially enabled dataframe. We can easily inspect the time frames (`start_time` - `end_time`) and the number of car vehicles `agent_count`.\n",
    "\n",
    "We see that the highest car throughput is before and after the conference event, e.g. between `07:00:00 - 07:59:59` and `18:00:00 - 18:59:59`."
   ]
  },
  {
   "cell_type": "code",
   "execution_count": null,
   "id": "c02f038d",
   "metadata": {},
   "outputs": [],
   "source": [
    "top_traffic_fset = FeatureSet.from_geojson(top_traffic_grid_cells)\n",
    "top_traffic_sdf = top_traffic_fset.sdf\n",
    "top_traffic_sdf"
   ]
  },
  {
   "cell_type": "markdown",
   "id": "47baa13a",
   "metadata": {},
   "source": [
    "## Map the traffic grid cells"
   ]
  },
  {
   "cell_type": "code",
   "execution_count": null,
   "id": "d6a22c53",
   "metadata": {},
   "outputs": [],
   "source": [
    "top_traffic_sdf.spatial.plot(palmsprings_map, renderer_type='s', colors='#E80000', alpha=0.3)\n",
    "palmsprings_map"
   ]
  },
  {
   "cell_type": "markdown",
   "id": "d6f2bd99",
   "metadata": {},
   "source": [
    "## Query the simulated agents nearby\n",
    "We are using the center of the hotspots near the Palm Springs International Airport, request the simulated agents being within a distance of `250 meters`, and specify a `30 seconds` time window starting from `07:30:00`."
   ]
  },
  {
   "cell_type": "code",
   "execution_count": null,
   "id": "9bddd6ee",
   "metadata": {},
   "outputs": [],
   "source": [
    "simulation_datetime = datetime.fromisoformat('2024-03-07T07:30:00')\n",
    "(latitude, longitude) = (33.822246, -116.494852)\n",
    "(seconds, meters) = (30, 250)\n",
    "car_positions = query(client, simulation_datetime, vehicle_type, latitude, longitude, seconds, meters)\n",
    "car_positions_fset = FeatureSet.from_geojson(car_positions)\n",
    "car_positions_sdf = car_positions_fset.sdf\n",
    "car_positions_sdf"
   ]
  },
  {
   "cell_type": "markdown",
   "id": "7627707b",
   "metadata": {},
   "source": [
    "## Map the car positions nearby"
   ]
  },
  {
   "cell_type": "code",
   "execution_count": null,
   "id": "b83703bb",
   "metadata": {},
   "outputs": [],
   "source": [
    "palmsprings_map = gis.map('Palm Springs, United Staates', zoomlevel=13)\n",
    "palmsprings_map.zoom_to_layer(car_positions_sdf)\n",
    "car_positions_sdf.spatial.plot(palmsprings_map, renderer_type='s', colors='#E80000', marker_size=7, alpha=0.3)\n",
    "palmsprings_map"
   ]
  },
  {
   "cell_type": "markdown",
   "id": "fb952fa6",
   "metadata": {},
   "source": [
    "## Do some data engineering\n",
    "We are interested in the movements of a specific agent and want to narrow down its movement behavior.\n",
    "The GeoJSON properties are treated as strings. So that we should convert the `trip` and `person` columns to `int32`. Furthermore, we convert the `trip_time` to `datetime`."
   ]
  },
  {
   "cell_type": "code",
   "execution_count": null,
   "id": "7f8ce320",
   "metadata": {},
   "outputs": [],
   "source": [
    "import pandas as pd"
   ]
  },
  {
   "cell_type": "code",
   "execution_count": null,
   "id": "fb034640",
   "metadata": {},
   "outputs": [],
   "source": [
    "car_positions_sdf = car_positions_sdf.astype({'trip':'int32', 'person':'int32'}) \n",
    "car_positions_sdf[['trip_time']] = car_positions_sdf[['trip_time']].apply(pd.to_datetime)\n",
    "car_positions_sdf"
   ]
  },
  {
   "cell_type": "code",
   "execution_count": null,
   "id": "c9086f66",
   "metadata": {},
   "outputs": [],
   "source": [
    "person_1161_positions_sdf = car_positions_sdf[car_positions_sdf['person']==1161]\n",
    "person_1161_positions_sdf"
   ]
  },
  {
   "cell_type": "markdown",
   "id": "0b4d2dd5",
   "metadata": {},
   "source": [
    "## Map the car positions of one specific agent"
   ]
  },
  {
   "cell_type": "code",
   "execution_count": null,
   "id": "fcbc1246",
   "metadata": {},
   "outputs": [],
   "source": [
    "palmsprings_map = gis.map('Palm Springs, United Staates', zoomlevel=13)\n",
    "palmsprings_map.zoom_to_layer(person_1161_positions_sdf)\n",
    "person_1161_positions_sdf.spatial.plot(palmsprings_map, renderer_type='s', colors='#E80000', marker_size=7, alpha=0.3)\n",
    "palmsprings_map"
   ]
  },
  {
   "cell_type": "markdown",
   "id": "b6d1e78e",
   "metadata": {},
   "source": [
    "## Accumulate the speed of car traffic between 08:00 and 09:00 AM"
   ]
  },
  {
   "cell_type": "code",
   "execution_count": null,
   "id": "cedec3f4",
   "metadata": {},
   "outputs": [],
   "source": [
    "palmsprings_region_code = 'USQ115930'\n",
    "simulation_datetime = datetime.fromisoformat('2024-03-07T08:00:00')\n",
    "vehicle_type = VehicleType.CAR\n",
    "grid_type = GridType.SPEED\n",
    "car_speed_cells = aggregate(client, palmsprings_region_code, simulation_datetime, vehicle_type, grid_type)\n",
    "car_speed_fset = FeatureSet.from_geojson(car_speed_cells)\n",
    "car_speed_sdf = car_speed_fset.sdf\n",
    "car_speed_sdf"
   ]
  },
  {
   "cell_type": "markdown",
   "id": "d7ee649a",
   "metadata": {},
   "source": [
    "## Map the accumulated speed of car traffic"
   ]
  },
  {
   "cell_type": "code",
   "execution_count": null,
   "id": "f9069c5e",
   "metadata": {},
   "outputs": [],
   "source": [
    "palmsprings_map = gis.map('Palm Springs, United Staates', zoomlevel=13)\n",
    "car_speed_sdf.spatial.plot(palmsprings_map, renderer_type='c', method='esriClassifyNaturalBreaks', class_count=5, col='speed_mean', cmap='RdYlGn')\n",
    "palmsprings_map"
   ]
  },
  {
   "cell_type": "markdown",
   "id": "94be0966",
   "metadata": {},
   "source": [
    "## Map the top 5 accumulated pedestrian traffic grid cells\n",
    "We request these hotspots for the city of Palm Springs by using the urban region code `USQ115930`, the simulation date `2024-03-07`, the vehicle type `Pedestrian`, and the grid type `agent`. The returned GeoJSON features represents the grid cells with the highest pedestrian throughput."
   ]
  },
  {
   "cell_type": "code",
   "execution_count": null,
   "id": "1c4b3508",
   "metadata": {},
   "outputs": [],
   "source": [
    "palmsprings_region_code = 'USQ115930'\n",
    "simulation_date = date(2024, 3, 7)\n",
    "vehicle_type = VehicleType.PEDESTRIAN\n",
    "grid_type = GridType.AGENT\n",
    "limit = 5\n",
    "top_traffic_grid_cells = top(client, palmsprings_region_code, simulation_date, vehicle_type, grid_type, limit=limit)\n",
    "top_traffic_fset = FeatureSet.from_geojson(top_traffic_grid_cells)\n",
    "top_traffic_sdf = top_traffic_fset.sdf\n",
    "palmsprings_map = gis.map('Palm Springs, United Staates', zoomlevel=13)\n",
    "top_traffic_sdf.spatial.plot(palmsprings_map, renderer_type='s', colors='#E80000', alpha=0.3)\n",
    "palmsprings_map"
   ]
  },
  {
   "cell_type": "markdown",
   "id": "6af7105d",
   "metadata": {},
   "source": [
    "## Map the car traffic nearby the convention center at 06:40 PM\n",
    "At this time people leaving the convention center by walking to parking lots and driving away by car."
   ]
  },
  {
   "cell_type": "code",
   "execution_count": null,
   "id": "c4b2331b",
   "metadata": {},
   "outputs": [],
   "source": [
    "simulation_datetime = datetime.fromisoformat('2024-03-07T18:40:00')\n",
    "vehicle_type = VehicleType.CAR\n",
    "(latitude, longitude) = (33.825868, -116.538317)\n",
    "(seconds, meters) = (1, 1000)\n",
    "car_positions = query(client, simulation_datetime, vehicle_type, latitude, longitude, seconds, meters)\n",
    "car_positions_fset = FeatureSet.from_geojson(car_positions)\n",
    "car_positions_sdf = car_positions_fset.sdf\n",
    "car_positions_sdf.spatial.plot(palmsprings_map, renderer_type='s', colors='#E80000', marker_size=7, alpha=0.3)\n",
    "palmsprings_map"
   ]
  }
 ],
 "metadata": {
  "kernelspec": {
   "display_name": "Python 3 (ipykernel)",
   "language": "python",
   "name": "python3"
  },
  "language_info": {
   "codemirror_mode": {
    "name": "ipython",
    "version": 3
   },
   "file_extension": ".py",
   "mimetype": "text/x-python",
   "name": "python",
   "nbconvert_exporter": "python",
   "pygments_lexer": "ipython3",
   "version": "3.9.15"
  }
 },
 "nbformat": 4,
 "nbformat_minor": 5
}
