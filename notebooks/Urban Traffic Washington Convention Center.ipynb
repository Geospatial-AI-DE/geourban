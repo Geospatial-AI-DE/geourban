{
 "cells": [
  {
   "cell_type": "markdown",
   "id": "60389894",
   "metadata": {},
   "source": [
    "# Urban Traffic Washingtion Convention Center\n",
    "Simulate the urban traffic from the city of Washington using [ArcGIS API for Python](https://developers.arcgis.com/python/)."
   ]
  },
  {
   "cell_type": "code",
   "execution_count": null,
   "id": "18cf80ec",
   "metadata": {},
   "outputs": [],
   "source": [
    "# author: Jan Tschada\n",
    "# SPDX-License-Identifer: Apache-2.0"
   ]
  },
  {
   "cell_type": "markdown",
   "id": "2f274f51",
   "metadata": {},
   "source": [
    "## Required Python modules\n",
    "You need to install ArcGIS API for Python, please follow the [guide](https://developers.arcgis.com/python/guide/anaconda/)."
   ]
  },
  {
   "cell_type": "code",
   "execution_count": null,
   "id": "d3f466d5",
   "metadata": {},
   "outputs": [],
   "source": [
    "from arcgis.gis import GIS\n",
    "from arcgis.features import FeatureSet\n",
    "from datetime import date, datetime, timedelta\n",
    "from georapid.client import GeoRapidClient\n",
    "from georapid.factory import EnvironmentClientFactory\n",
    "from geourban.services import aggregate, query, simulations, top\n",
    "from geourban.types import GridType, VehicleType"
   ]
  },
  {
   "cell_type": "markdown",
   "id": "db334ca0",
   "metadata": {},
   "source": [
    "## Connect to ArcGIS Online"
   ]
  },
  {
   "cell_type": "code",
   "execution_count": null,
   "id": "b87eb729",
   "metadata": {},
   "outputs": [],
   "source": [
    "gis = GIS()"
   ]
  },
  {
   "cell_type": "markdown",
   "id": "8ea7e14f",
   "metadata": {},
   "source": [
    "## Create a map showing the city of Las Vegas"
   ]
  },
  {
   "cell_type": "code",
   "execution_count": null,
   "id": "8b37ee6e",
   "metadata": {},
   "outputs": [],
   "source": [
    "washington_map = gis.map('Washington, United States', zoomlevel=13)\n",
    "washington_map"
   ]
  },
  {
   "cell_type": "markdown",
   "id": "be557629",
   "metadata": {},
   "source": [
    "## Connect to geourban services"
   ]
  },
  {
   "cell_type": "markdown",
   "id": "a83ab556",
   "metadata": {},
   "source": [
    "The host parameter must target the specific host like \\\"geoprotests.p.rapidapi.com\\\". Furthermore, the factory directly access `os.environ['x_rapidapi_key']` and uses the specified API key as a header parameter. Otherwise, `georapid.factory.EnvironmentClientFactory.create_client_with_host()` will raise a `ValueError`.\n",
    "\n",
    "Please, check out the [RapidAPI Account Creation and Management Guide](https://docs.rapidapi.com/docs/account-creation-and-settings)."
   ]
  },
  {
   "cell_type": "code",
   "execution_count": null,
   "id": "c3cdbbad",
   "metadata": {},
   "outputs": [],
   "source": [
    "client = EnvironmentClientFactory.create_client_with_host('geourban.p.rapidapi.com')"
   ]
  },
  {
   "cell_type": "markdown",
   "id": "1c4da386",
   "metadata": {},
   "source": [
    "## Request the top 5 accumulated car traffic grid cells\n",
    "We request these hotspots nearby the Walter E. Washington Convention Center by using the urban region code `USQ7806370`, the simulation date `2024-02-17`, the vehicle type `Car`, and the grid type `agent`. The returned GeoJSON features represents the grid cells with the highest car throughput."
   ]
  },
  {
   "cell_type": "code",
   "execution_count": null,
   "id": "c57dfba6",
   "metadata": {},
   "outputs": [],
   "source": [
    "convention_center_region_code = 'USQ7806370'\n",
    "simulation_date = date(2024, 2, 17)\n",
    "vehicle_type = VehicleType.CAR\n",
    "grid_type = GridType.AGENT\n",
    "limit = 5\n",
    "top_traffic_grid_cells = top(client, convention_center_region_code, simulation_date, vehicle_type, grid_type, limit=limit)\n",
    "top_traffic_grid_cells"
   ]
  },
  {
   "cell_type": "markdown",
   "id": "2ebbb0ee",
   "metadata": {},
   "source": [
    "## Convert the returned GeoJSON result into a FeatureSet\n",
    "The FeatureSet offers direct access to a spatially enabled dataframe. We can easily inspect the time frames (`start_time` - `end_time`) and the number of car vehicles `agent_count`."
   ]
  },
  {
   "cell_type": "code",
   "execution_count": null,
   "id": "4b00eee4",
   "metadata": {},
   "outputs": [],
   "source": [
    "top_traffic_fset = FeatureSet.from_geojson(top_traffic_grid_cells)\n",
    "top_traffic_sdf = top_traffic_fset.sdf\n",
    "top_traffic_sdf"
   ]
  },
  {
   "cell_type": "markdown",
   "id": "ff603b01",
   "metadata": {},
   "source": [
    "## Map the traffic grid cells\n",
    "We see the highest car throughput being nearby the the Carnegie Library at `07:00`, `08:00` and `18:00` o'clock."
   ]
  },
  {
   "cell_type": "code",
   "execution_count": null,
   "id": "14a0e330",
   "metadata": {},
   "outputs": [],
   "source": [
    "top_traffic_sdf.spatial.plot(washington_map, renderer_type='s', colors='#E80000', alpha=0.3)\n",
    "washington_map"
   ]
  },
  {
   "cell_type": "markdown",
   "id": "ea256f98",
   "metadata": {},
   "source": [
    "## Query the simulated agents nearby\n",
    "We are using the center of the Carnegie Library, request the simulated agents being within a distance of `250 meters`, and specify a `120 seconds` time window starting from `18:00:00`."
   ]
  },
  {
   "cell_type": "code",
   "execution_count": null,
   "id": "99455fb1",
   "metadata": {},
   "outputs": [],
   "source": [
    "simulation_datetime = datetime.fromisoformat('2024-02-17T18:00:00')\n",
    "(latitude, longitude) = (38.9026, -77.0229)\n",
    "(seconds, meters) = (120, 250)\n",
    "car_positions = query(client, simulation_datetime, vehicle_type, latitude, longitude, seconds, meters)\n",
    "car_positions_fset = FeatureSet.from_geojson(car_positions)\n",
    "car_positions_sdf = car_positions_fset.sdf\n",
    "car_positions_sdf"
   ]
  },
  {
   "cell_type": "markdown",
   "id": "7c9036bd",
   "metadata": {},
   "source": [
    "## Map the car positions nearby"
   ]
  },
  {
   "cell_type": "code",
   "execution_count": null,
   "id": "7eb9cba6",
   "metadata": {},
   "outputs": [],
   "source": [
    "washington_map = gis.map('Washington, United States', zoomlevel=13)\n",
    "washington_map.zoom_to_layer(car_positions_sdf)\n",
    "car_positions_sdf.spatial.plot(washington_map, renderer_type='s', colors='#E80000', marker_size=7, alpha=0.3)\n",
    "washington_map"
   ]
  },
  {
   "cell_type": "markdown",
   "id": "72763a53",
   "metadata": {},
   "source": [
    "## Accumulate the speed of car traffic between 18:00 and 19:00"
   ]
  },
  {
   "cell_type": "code",
   "execution_count": null,
   "id": "3efad873",
   "metadata": {},
   "outputs": [],
   "source": [
    "convention_center_region_code = 'USQ7806370'\n",
    "simulation_datetime = datetime.fromisoformat('2024-02-17T18:00:00')\n",
    "vehicle_type = VehicleType.CAR\n",
    "grid_type = GridType.SPEED\n",
    "car_speed_cells = aggregate(client, convention_center_region_code, simulation_datetime, vehicle_type, grid_type)\n",
    "car_speed_fset = FeatureSet.from_geojson(car_speed_cells)\n",
    "car_speed_sdf = car_speed_fset.sdf\n",
    "car_speed_sdf"
   ]
  },
  {
   "cell_type": "markdown",
   "id": "83758409",
   "metadata": {},
   "source": [
    "## Map the accumulated speed of car traffic"
   ]
  },
  {
   "cell_type": "code",
   "execution_count": null,
   "id": "a8d42bfd",
   "metadata": {},
   "outputs": [],
   "source": [
    "washington_map = gis.map('Washington, United States', zoomlevel=13)\n",
    "car_speed_sdf.spatial.plot(washington_map, renderer_type='c', method='esriClassifyNaturalBreaks', class_count=5, col='speed_mean', cmap='RdYlGn')\n",
    "washington_map"
   ]
  },
  {
   "cell_type": "markdown",
   "id": "b33caa66",
   "metadata": {},
   "source": [
    "## Do some data engineering\n",
    "Convert the start_time, end_time to datetime and the speed_mean to numeric. We restrict the traffic grid cells using a speed_mean below 10 km/h."
   ]
  },
  {
   "cell_type": "code",
   "execution_count": null,
   "id": "4b71960a",
   "metadata": {},
   "outputs": [],
   "source": [
    "import pandas as pd"
   ]
  },
  {
   "cell_type": "code",
   "execution_count": null,
   "id": "55d3ff6f",
   "metadata": {},
   "outputs": [],
   "source": [
    "car_speed_sdf[['start_time', 'end_time']] = car_speed_sdf[['start_time', 'end_time']].apply(pd.to_datetime)\n",
    "car_speed_sdf[['speed_mean']] = car_speed_sdf[['speed_mean']].apply(pd.to_numeric)\n",
    "low_car_speed_sdf = car_speed_sdf[car_speed_sdf['speed_mean'] < 10]\n",
    "washington_map = gis.map('Washington, United States', zoomlevel=13)\n",
    "low_car_speed_sdf.spatial.plot(washington_map, renderer_type='c', method='esriClassifyNaturalBreaks', class_count=5, col='speed_mean', cmap='RdYlGn')\n",
    "washington_map"
   ]
  },
  {
   "cell_type": "code",
   "execution_count": null,
   "id": "207bb429",
   "metadata": {},
   "outputs": [],
   "source": []
  }
 ],
 "metadata": {
  "kernelspec": {
   "display_name": "Python 3 (ipykernel)",
   "language": "python",
   "name": "python3"
  },
  "language_info": {
   "codemirror_mode": {
    "name": "ipython",
    "version": 3
   },
   "file_extension": ".py",
   "mimetype": "text/x-python",
   "name": "python",
   "nbconvert_exporter": "python",
   "pygments_lexer": "ipython3",
   "version": "3.9.15"
  }
 },
 "nbformat": 4,
 "nbformat_minor": 5
}
